{
 "cells": [
  {
   "cell_type": "code",
   "execution_count": 2,
   "metadata": {},
   "outputs": [],
   "source": [
    "import numpy as np\n",
    "import pandas as pd\n",
    "import random, copy, os\n",
    "from matplotlib import pyplot as plt\n",
    "from sklearn.preprocessing import MinMaxScaler\n",
    "from multiprocessing import Pool\n",
    "import multiprocessing\n",
    "%run algorithm_functions.ipynb\n",
    "\n",
    "from cvxopt.base import matrix as m\n",
    "from cvxopt import solvers\n",
    "from cvxopt.modeling import op, dot, variable, max, min"
   ]
  },
  {
   "cell_type": "markdown",
   "metadata": {},
   "source": [
    "## Prepare Data"
   ]
  },
  {
   "cell_type": "code",
   "execution_count": 703,
   "metadata": {},
   "outputs": [
    {
     "data": {
      "text/html": [
       "<div>\n",
       "<style scoped>\n",
       "    .dataframe tbody tr th:only-of-type {\n",
       "        vertical-align: middle;\n",
       "    }\n",
       "\n",
       "    .dataframe tbody tr th {\n",
       "        vertical-align: top;\n",
       "    }\n",
       "\n",
       "    .dataframe thead th {\n",
       "        text-align: right;\n",
       "    }\n",
       "</style>\n",
       "<table border=\"1\" class=\"dataframe\">\n",
       "  <thead>\n",
       "    <tr style=\"text-align: right;\">\n",
       "      <th></th>\n",
       "      <th>medallion</th>\n",
       "      <th>hack_license</th>\n",
       "      <th>pickup_datetime</th>\n",
       "      <th>dropoff_datetime</th>\n",
       "      <th>trip_time_in_secs</th>\n",
       "      <th>trip_distance</th>\n",
       "      <th>pickup_longitude</th>\n",
       "      <th>pickup_latitude</th>\n",
       "      <th>dropoff_longitude</th>\n",
       "      <th>dropoff_latitude</th>\n",
       "      <th>driver_race</th>\n",
       "      <th>driver_gender</th>\n",
       "      <th>requests_gender</th>\n",
       "      <th>requests_race</th>\n",
       "      <th>pickup_lat_bin</th>\n",
       "      <th>pickup_long_bin</th>\n",
       "      <th>dropoff_lat_bin</th>\n",
       "      <th>dropoff_long_bin</th>\n",
       "    </tr>\n",
       "  </thead>\n",
       "  <tbody>\n",
       "    <tr>\n",
       "      <th>0</th>\n",
       "      <td>89D227B655E5C82AECF13C3F540D4CF4</td>\n",
       "      <td>BA96DE419E711691B9445D6A6307C170</td>\n",
       "      <td>2013-01-01 15:11:48</td>\n",
       "      <td>2013-01-01 15:18:10</td>\n",
       "      <td>382</td>\n",
       "      <td>1.0</td>\n",
       "      <td>-73.978165</td>\n",
       "      <td>40.757977</td>\n",
       "      <td>-73.989838</td>\n",
       "      <td>40.751171</td>\n",
       "      <td>black</td>\n",
       "      <td>m</td>\n",
       "      <td>f</td>\n",
       "      <td>white</td>\n",
       "      <td>7</td>\n",
       "      <td>20</td>\n",
       "      <td>7</td>\n",
       "      <td>19</td>\n",
       "    </tr>\n",
       "    <tr>\n",
       "      <th>1</th>\n",
       "      <td>0BD7C8F5BA12B88E0B67BED28BEA73D8</td>\n",
       "      <td>9FD8F69F0804BDB5549F40E9DA1BE472</td>\n",
       "      <td>2013-01-06 00:18:35</td>\n",
       "      <td>2013-01-06 00:22:54</td>\n",
       "      <td>259</td>\n",
       "      <td>1.5</td>\n",
       "      <td>-74.006683</td>\n",
       "      <td>40.731781</td>\n",
       "      <td>-73.994499</td>\n",
       "      <td>40.750660</td>\n",
       "      <td>black</td>\n",
       "      <td>m</td>\n",
       "      <td>f</td>\n",
       "      <td>white</td>\n",
       "      <td>6</td>\n",
       "      <td>19</td>\n",
       "      <td>7</td>\n",
       "      <td>19</td>\n",
       "    </tr>\n",
       "    <tr>\n",
       "      <th>2</th>\n",
       "      <td>0BD7C8F5BA12B88E0B67BED28BEA73D8</td>\n",
       "      <td>9FD8F69F0804BDB5549F40E9DA1BE472</td>\n",
       "      <td>2013-01-05 18:49:41</td>\n",
       "      <td>2013-01-05 18:54:23</td>\n",
       "      <td>282</td>\n",
       "      <td>1.1</td>\n",
       "      <td>-74.004707</td>\n",
       "      <td>40.737770</td>\n",
       "      <td>-74.009834</td>\n",
       "      <td>40.726002</td>\n",
       "      <td>black</td>\n",
       "      <td>m</td>\n",
       "      <td>f</td>\n",
       "      <td>white</td>\n",
       "      <td>6</td>\n",
       "      <td>19</td>\n",
       "      <td>6</td>\n",
       "      <td>19</td>\n",
       "    </tr>\n",
       "    <tr>\n",
       "      <th>3</th>\n",
       "      <td>DFD2202EE08F7A8DC9A57B02ACB81FE2</td>\n",
       "      <td>51EE87E3205C985EF8431D850C786310</td>\n",
       "      <td>2013-01-07 23:54:15</td>\n",
       "      <td>2013-01-07 23:58:20</td>\n",
       "      <td>244</td>\n",
       "      <td>0.7</td>\n",
       "      <td>-73.974602</td>\n",
       "      <td>40.759945</td>\n",
       "      <td>-73.984734</td>\n",
       "      <td>40.759388</td>\n",
       "      <td>black</td>\n",
       "      <td>m</td>\n",
       "      <td>m</td>\n",
       "      <td>white</td>\n",
       "      <td>7</td>\n",
       "      <td>20</td>\n",
       "      <td>7</td>\n",
       "      <td>19</td>\n",
       "    </tr>\n",
       "    <tr>\n",
       "      <th>4</th>\n",
       "      <td>DFD2202EE08F7A8DC9A57B02ACB81FE2</td>\n",
       "      <td>51EE87E3205C985EF8431D850C786310</td>\n",
       "      <td>2013-01-07 23:25:03</td>\n",
       "      <td>2013-01-07 23:34:24</td>\n",
       "      <td>560</td>\n",
       "      <td>2.1</td>\n",
       "      <td>-73.976250</td>\n",
       "      <td>40.748528</td>\n",
       "      <td>-74.002586</td>\n",
       "      <td>40.747868</td>\n",
       "      <td>black</td>\n",
       "      <td>m</td>\n",
       "      <td>m</td>\n",
       "      <td>white</td>\n",
       "      <td>6</td>\n",
       "      <td>20</td>\n",
       "      <td>6</td>\n",
       "      <td>19</td>\n",
       "    </tr>\n",
       "  </tbody>\n",
       "</table>\n",
       "</div>"
      ],
      "text/plain": [
       "                          medallion                      hack_license  \\\n",
       "0  89D227B655E5C82AECF13C3F540D4CF4  BA96DE419E711691B9445D6A6307C170   \n",
       "1  0BD7C8F5BA12B88E0B67BED28BEA73D8  9FD8F69F0804BDB5549F40E9DA1BE472   \n",
       "2  0BD7C8F5BA12B88E0B67BED28BEA73D8  9FD8F69F0804BDB5549F40E9DA1BE472   \n",
       "3  DFD2202EE08F7A8DC9A57B02ACB81FE2  51EE87E3205C985EF8431D850C786310   \n",
       "4  DFD2202EE08F7A8DC9A57B02ACB81FE2  51EE87E3205C985EF8431D850C786310   \n",
       "\n",
       "       pickup_datetime     dropoff_datetime  trip_time_in_secs  trip_distance  \\\n",
       "0  2013-01-01 15:11:48  2013-01-01 15:18:10                382            1.0   \n",
       "1  2013-01-06 00:18:35  2013-01-06 00:22:54                259            1.5   \n",
       "2  2013-01-05 18:49:41  2013-01-05 18:54:23                282            1.1   \n",
       "3  2013-01-07 23:54:15  2013-01-07 23:58:20                244            0.7   \n",
       "4  2013-01-07 23:25:03  2013-01-07 23:34:24                560            2.1   \n",
       "\n",
       "   pickup_longitude  pickup_latitude  dropoff_longitude  dropoff_latitude  \\\n",
       "0        -73.978165        40.757977         -73.989838         40.751171   \n",
       "1        -74.006683        40.731781         -73.994499         40.750660   \n",
       "2        -74.004707        40.737770         -74.009834         40.726002   \n",
       "3        -73.974602        40.759945         -73.984734         40.759388   \n",
       "4        -73.976250        40.748528         -74.002586         40.747868   \n",
       "\n",
       "  driver_race driver_gender requests_gender requests_race  pickup_lat_bin  \\\n",
       "0       black             m               f         white               7   \n",
       "1       black             m               f         white               6   \n",
       "2       black             m               f         white               6   \n",
       "3       black             m               m         white               7   \n",
       "4       black             m               m         white               6   \n",
       "\n",
       "   pickup_long_bin  dropoff_lat_bin  dropoff_long_bin  \n",
       "0               20                7                19  \n",
       "1               19                7                19  \n",
       "2               19                6                19  \n",
       "3               20                7                19  \n",
       "4               20                6                19  "
      ]
     },
     "execution_count": 703,
     "metadata": {},
     "output_type": "execute_result"
    }
   ],
   "source": [
    "df = pd.read_csv('./data/tripData2013/trip_data_1_filtered.csv')\n",
    "df.head()"
   ]
  },
  {
   "cell_type": "code",
   "execution_count": 704,
   "metadata": {},
   "outputs": [],
   "source": [
    "df['pickup_datetime'] = pd.to_datetime(df['pickup_datetime'])\n",
    "df['dropoff_datetime'] = pd.to_datetime(df['dropoff_datetime'])"
   ]
  },
  {
   "cell_type": "code",
   "execution_count": 705,
   "metadata": {},
   "outputs": [],
   "source": [
    "s = MinMaxScaler() # scaling distances such that all values are [0,1]\n",
    "df['trip_distance'] = s.fit_transform(df['trip_distance'].values.reshape(-1, 1))"
   ]
  },
  {
   "cell_type": "code",
   "execution_count": 706,
   "metadata": {},
   "outputs": [],
   "source": [
    "min_latitude = min(np.min(df['pickup_latitude']), np.min(df['dropoff_latitude']))\n",
    "max_latitude = max(np.max(df['pickup_latitude']), np.max(df['dropoff_latitude']))\n",
    "min_longitude = min(np.min(df['pickup_longitude']), np.min(df['dropoff_longitude']))\n",
    "max_longitude = max(np.max(df['pickup_longitude']), np.max(df['dropoff_longitude']))"
   ]
  },
  {
   "cell_type": "code",
   "execution_count": 707,
   "metadata": {},
   "outputs": [
    {
     "data": {
      "text/plain": [
       "(-74.98333000000002, -73.011703, 40.400002, 40.999813)"
      ]
     },
     "execution_count": 707,
     "metadata": {},
     "output_type": "execute_result"
    }
   ],
   "source": [
    "min_longitude, max_longitude, min_latitude, max_latitude"
   ]
  },
  {
   "cell_type": "code",
   "execution_count": 708,
   "metadata": {},
   "outputs": [],
   "source": [
    "requests_features = ['pickup_lat_bin', 'pickup_long_bin', 'dropoff_lat_bin', 'dropoff_long_bin', \n",
    "                     'requests_gender', 'requests_race']\n",
    "driver_features = ['driver_race', 'driver_gender', 'pickup_lat_bin', 'pickup_long_bin']"
   ]
  },
  {
   "cell_type": "markdown",
   "metadata": {},
   "source": [
    "###### Total number of drivers and types of drivers"
   ]
  },
  {
   "cell_type": "code",
   "execution_count": 709,
   "metadata": {},
   "outputs": [
    {
     "name": "stdout",
     "output_type": "stream",
     "text": [
      "Total number of drivers: 32092, total driver types: 716\n"
     ]
    }
   ],
   "source": [
    "all_driver_types = df.groupby(driver_features)['driver_gender'].agg('count')\n",
    "print (\"Total number of drivers: {}, total driver types: {}\".format(len(set(list(df['hack_license']))), \n",
    "                                                                    len(all_driver_types)))"
   ]
  },
  {
   "cell_type": "markdown",
   "metadata": {},
   "source": [
    "###### Total number and types of requests"
   ]
  },
  {
   "cell_type": "code",
   "execution_count": 710,
   "metadata": {},
   "outputs": [
    {
     "name": "stdout",
     "output_type": "stream",
     "text": [
      "Total requests: 14486242, types of requests: 8676, total rides: 14486242\n"
     ]
    }
   ],
   "source": [
    "all_request_types = df.groupby(['pickup_lat_bin', 'pickup_long_bin', 'dropoff_lat_bin', 'dropoff_long_bin', \n",
    "            'requests_gender', 'requests_race'])['requests_gender'].agg('count')\n",
    "print (\"Total requests: {}, types of requests: {}, total rides: {}\".format(all_request_types.sum(), \n",
    "                                                                           len(all_request_types),\n",
    "                                                                           len(df)))"
   ]
  },
  {
   "cell_type": "code",
   "execution_count": 711,
   "metadata": {},
   "outputs": [],
   "source": [
    "peak_hour = 19\n",
    "peak_day = 31"
   ]
  },
  {
   "cell_type": "code",
   "execution_count": 712,
   "metadata": {},
   "outputs": [
    {
     "data": {
      "text/html": [
       "<div>\n",
       "<style scoped>\n",
       "    .dataframe tbody tr th:only-of-type {\n",
       "        vertical-align: middle;\n",
       "    }\n",
       "\n",
       "    .dataframe tbody tr th {\n",
       "        vertical-align: top;\n",
       "    }\n",
       "\n",
       "    .dataframe thead th {\n",
       "        text-align: right;\n",
       "    }\n",
       "</style>\n",
       "<table border=\"1\" class=\"dataframe\">\n",
       "  <thead>\n",
       "    <tr style=\"text-align: right;\">\n",
       "      <th></th>\n",
       "      <th>medallion</th>\n",
       "      <th>hack_license</th>\n",
       "      <th>pickup_datetime</th>\n",
       "      <th>dropoff_datetime</th>\n",
       "      <th>trip_time_in_secs</th>\n",
       "      <th>trip_distance</th>\n",
       "      <th>pickup_longitude</th>\n",
       "      <th>pickup_latitude</th>\n",
       "      <th>dropoff_longitude</th>\n",
       "      <th>dropoff_latitude</th>\n",
       "      <th>driver_race</th>\n",
       "      <th>driver_gender</th>\n",
       "      <th>requests_gender</th>\n",
       "      <th>requests_race</th>\n",
       "      <th>pickup_lat_bin</th>\n",
       "      <th>pickup_long_bin</th>\n",
       "      <th>dropoff_lat_bin</th>\n",
       "      <th>dropoff_long_bin</th>\n",
       "    </tr>\n",
       "  </thead>\n",
       "  <tbody>\n",
       "    <tr>\n",
       "      <th>7853828</th>\n",
       "      <td>6B53BBA9567F90BD8A4130FEE57F703A</td>\n",
       "      <td>A21EF85E38B13F676E69C40A0127654B</td>\n",
       "      <td>2013-01-31 19:21:00</td>\n",
       "      <td>2013-01-31 19:32:00</td>\n",
       "      <td>660</td>\n",
       "      <td>0.044</td>\n",
       "      <td>-74.004677</td>\n",
       "      <td>40.711876</td>\n",
       "      <td>-73.972374</td>\n",
       "      <td>40.742809</td>\n",
       "      <td>white</td>\n",
       "      <td>m</td>\n",
       "      <td>m</td>\n",
       "      <td>white</td>\n",
       "      <td>6</td>\n",
       "      <td>19</td>\n",
       "      <td>6</td>\n",
       "      <td>20</td>\n",
       "    </tr>\n",
       "    <tr>\n",
       "      <th>7873451</th>\n",
       "      <td>E565EF3C83240654D540CBAA0D7C96EE</td>\n",
       "      <td>4269094FA5A341993B6707B5E1200AAA</td>\n",
       "      <td>2013-01-31 19:20:55</td>\n",
       "      <td>2013-01-31 19:49:11</td>\n",
       "      <td>1694</td>\n",
       "      <td>0.059</td>\n",
       "      <td>-73.976387</td>\n",
       "      <td>40.748592</td>\n",
       "      <td>-73.965439</td>\n",
       "      <td>40.678673</td>\n",
       "      <td>black</td>\n",
       "      <td>m</td>\n",
       "      <td>f</td>\n",
       "      <td>white</td>\n",
       "      <td>6</td>\n",
       "      <td>20</td>\n",
       "      <td>5</td>\n",
       "      <td>20</td>\n",
       "    </tr>\n",
       "    <tr>\n",
       "      <th>7877649</th>\n",
       "      <td>79584E2DA4A76EA45C482EA2B1C1B220</td>\n",
       "      <td>3B1803457E6CD3936B2C32CB856AD272</td>\n",
       "      <td>2013-01-31 19:17:16</td>\n",
       "      <td>2013-01-31 19:26:00</td>\n",
       "      <td>523</td>\n",
       "      <td>0.012</td>\n",
       "      <td>-73.983322</td>\n",
       "      <td>40.750206</td>\n",
       "      <td>-73.971024</td>\n",
       "      <td>40.762066</td>\n",
       "      <td>black</td>\n",
       "      <td>m</td>\n",
       "      <td>m</td>\n",
       "      <td>white</td>\n",
       "      <td>7</td>\n",
       "      <td>20</td>\n",
       "      <td>7</td>\n",
       "      <td>20</td>\n",
       "    </tr>\n",
       "    <tr>\n",
       "      <th>7879766</th>\n",
       "      <td>171BF6AD2C32D927735A7A5ADB516512</td>\n",
       "      <td>6CB8F868A9A20D3FAB2B3307C841C00B</td>\n",
       "      <td>2013-01-31 19:54:32</td>\n",
       "      <td>2013-01-31 20:14:15</td>\n",
       "      <td>1183</td>\n",
       "      <td>0.110</td>\n",
       "      <td>-73.872978</td>\n",
       "      <td>40.774025</td>\n",
       "      <td>-73.975807</td>\n",
       "      <td>40.676292</td>\n",
       "      <td>black</td>\n",
       "      <td>m</td>\n",
       "      <td>m</td>\n",
       "      <td>white</td>\n",
       "      <td>7</td>\n",
       "      <td>22</td>\n",
       "      <td>5</td>\n",
       "      <td>20</td>\n",
       "    </tr>\n",
       "    <tr>\n",
       "      <th>7880711</th>\n",
       "      <td>FB30B64440B4A7B8DBA9903C7598AD90</td>\n",
       "      <td>A4897540F0711AE1BC2C76A348883100</td>\n",
       "      <td>2013-01-31 19:56:28</td>\n",
       "      <td>2013-01-31 20:06:14</td>\n",
       "      <td>586</td>\n",
       "      <td>0.011</td>\n",
       "      <td>-73.977638</td>\n",
       "      <td>40.758900</td>\n",
       "      <td>-73.990395</td>\n",
       "      <td>40.767120</td>\n",
       "      <td>black</td>\n",
       "      <td>m</td>\n",
       "      <td>m</td>\n",
       "      <td>black</td>\n",
       "      <td>7</td>\n",
       "      <td>20</td>\n",
       "      <td>7</td>\n",
       "      <td>19</td>\n",
       "    </tr>\n",
       "  </tbody>\n",
       "</table>\n",
       "</div>"
      ],
      "text/plain": [
       "                                medallion                      hack_license  \\\n",
       "7853828  6B53BBA9567F90BD8A4130FEE57F703A  A21EF85E38B13F676E69C40A0127654B   \n",
       "7873451  E565EF3C83240654D540CBAA0D7C96EE  4269094FA5A341993B6707B5E1200AAA   \n",
       "7877649  79584E2DA4A76EA45C482EA2B1C1B220  3B1803457E6CD3936B2C32CB856AD272   \n",
       "7879766  171BF6AD2C32D927735A7A5ADB516512  6CB8F868A9A20D3FAB2B3307C841C00B   \n",
       "7880711  FB30B64440B4A7B8DBA9903C7598AD90  A4897540F0711AE1BC2C76A348883100   \n",
       "\n",
       "            pickup_datetime    dropoff_datetime  trip_time_in_secs  \\\n",
       "7853828 2013-01-31 19:21:00 2013-01-31 19:32:00                660   \n",
       "7873451 2013-01-31 19:20:55 2013-01-31 19:49:11               1694   \n",
       "7877649 2013-01-31 19:17:16 2013-01-31 19:26:00                523   \n",
       "7879766 2013-01-31 19:54:32 2013-01-31 20:14:15               1183   \n",
       "7880711 2013-01-31 19:56:28 2013-01-31 20:06:14                586   \n",
       "\n",
       "         trip_distance  pickup_longitude  pickup_latitude  dropoff_longitude  \\\n",
       "7853828          0.044        -74.004677        40.711876         -73.972374   \n",
       "7873451          0.059        -73.976387        40.748592         -73.965439   \n",
       "7877649          0.012        -73.983322        40.750206         -73.971024   \n",
       "7879766          0.110        -73.872978        40.774025         -73.975807   \n",
       "7880711          0.011        -73.977638        40.758900         -73.990395   \n",
       "\n",
       "         dropoff_latitude driver_race driver_gender requests_gender  \\\n",
       "7853828         40.742809       white             m               m   \n",
       "7873451         40.678673       black             m               f   \n",
       "7877649         40.762066       black             m               m   \n",
       "7879766         40.676292       black             m               m   \n",
       "7880711         40.767120       black             m               m   \n",
       "\n",
       "        requests_race  pickup_lat_bin  pickup_long_bin  dropoff_lat_bin  \\\n",
       "7853828         white               6               19                6   \n",
       "7873451         white               6               20                5   \n",
       "7877649         white               7               20                7   \n",
       "7879766         white               7               22                5   \n",
       "7880711         black               7               20                7   \n",
       "\n",
       "         dropoff_long_bin  \n",
       "7853828                20  \n",
       "7873451                20  \n",
       "7877649                20  \n",
       "7879766                20  \n",
       "7880711                19  "
      ]
     },
     "execution_count": 712,
     "metadata": {},
     "output_type": "execute_result"
    }
   ],
   "source": [
    "peak_hour_entries = df[np.logical_and(df['pickup_datetime'].dt.hour == peak_hour, \n",
    "                                     df['pickup_datetime'].dt.day == peak_day)]\n",
    "peak_hour_entries.head()"
   ]
  },
  {
   "cell_type": "code",
   "execution_count": 713,
   "metadata": {},
   "outputs": [
    {
     "data": {
      "text/plain": [
       "35109"
      ]
     },
     "execution_count": 713,
     "metadata": {},
     "output_type": "execute_result"
    }
   ],
   "source": [
    "len(peak_hour_entries)"
   ]
  },
  {
   "cell_type": "code",
   "execution_count": 714,
   "metadata": {},
   "outputs": [
    {
     "name": "stdout",
     "output_type": "stream",
     "text": [
      "13965626\n"
     ]
    },
    {
     "data": {
      "text/html": [
       "<div>\n",
       "<style scoped>\n",
       "    .dataframe tbody tr th:only-of-type {\n",
       "        vertical-align: middle;\n",
       "    }\n",
       "\n",
       "    .dataframe tbody tr th {\n",
       "        vertical-align: top;\n",
       "    }\n",
       "\n",
       "    .dataframe thead th {\n",
       "        text-align: right;\n",
       "    }\n",
       "</style>\n",
       "<table border=\"1\" class=\"dataframe\">\n",
       "  <thead>\n",
       "    <tr style=\"text-align: right;\">\n",
       "      <th></th>\n",
       "      <th>medallion</th>\n",
       "      <th>hack_license</th>\n",
       "      <th>pickup_datetime</th>\n",
       "      <th>dropoff_datetime</th>\n",
       "      <th>trip_time_in_secs</th>\n",
       "      <th>trip_distance</th>\n",
       "      <th>pickup_longitude</th>\n",
       "      <th>pickup_latitude</th>\n",
       "      <th>dropoff_longitude</th>\n",
       "      <th>dropoff_latitude</th>\n",
       "      <th>driver_race</th>\n",
       "      <th>driver_gender</th>\n",
       "      <th>requests_gender</th>\n",
       "      <th>requests_race</th>\n",
       "      <th>pickup_lat_bin</th>\n",
       "      <th>pickup_long_bin</th>\n",
       "      <th>dropoff_lat_bin</th>\n",
       "      <th>dropoff_long_bin</th>\n",
       "    </tr>\n",
       "  </thead>\n",
       "  <tbody>\n",
       "    <tr>\n",
       "      <th>0</th>\n",
       "      <td>89D227B655E5C82AECF13C3F540D4CF4</td>\n",
       "      <td>BA96DE419E711691B9445D6A6307C170</td>\n",
       "      <td>2013-01-01 15:11:48</td>\n",
       "      <td>2013-01-01 15:18:10</td>\n",
       "      <td>382</td>\n",
       "      <td>0.010</td>\n",
       "      <td>-73.978165</td>\n",
       "      <td>40.757977</td>\n",
       "      <td>-73.989838</td>\n",
       "      <td>40.751171</td>\n",
       "      <td>black</td>\n",
       "      <td>m</td>\n",
       "      <td>f</td>\n",
       "      <td>white</td>\n",
       "      <td>7</td>\n",
       "      <td>20</td>\n",
       "      <td>7</td>\n",
       "      <td>19</td>\n",
       "    </tr>\n",
       "    <tr>\n",
       "      <th>1</th>\n",
       "      <td>0BD7C8F5BA12B88E0B67BED28BEA73D8</td>\n",
       "      <td>9FD8F69F0804BDB5549F40E9DA1BE472</td>\n",
       "      <td>2013-01-06 00:18:35</td>\n",
       "      <td>2013-01-06 00:22:54</td>\n",
       "      <td>259</td>\n",
       "      <td>0.015</td>\n",
       "      <td>-74.006683</td>\n",
       "      <td>40.731781</td>\n",
       "      <td>-73.994499</td>\n",
       "      <td>40.750660</td>\n",
       "      <td>black</td>\n",
       "      <td>m</td>\n",
       "      <td>f</td>\n",
       "      <td>white</td>\n",
       "      <td>6</td>\n",
       "      <td>19</td>\n",
       "      <td>7</td>\n",
       "      <td>19</td>\n",
       "    </tr>\n",
       "    <tr>\n",
       "      <th>2</th>\n",
       "      <td>0BD7C8F5BA12B88E0B67BED28BEA73D8</td>\n",
       "      <td>9FD8F69F0804BDB5549F40E9DA1BE472</td>\n",
       "      <td>2013-01-05 18:49:41</td>\n",
       "      <td>2013-01-05 18:54:23</td>\n",
       "      <td>282</td>\n",
       "      <td>0.011</td>\n",
       "      <td>-74.004707</td>\n",
       "      <td>40.737770</td>\n",
       "      <td>-74.009834</td>\n",
       "      <td>40.726002</td>\n",
       "      <td>black</td>\n",
       "      <td>m</td>\n",
       "      <td>f</td>\n",
       "      <td>white</td>\n",
       "      <td>6</td>\n",
       "      <td>19</td>\n",
       "      <td>6</td>\n",
       "      <td>19</td>\n",
       "    </tr>\n",
       "    <tr>\n",
       "      <th>3</th>\n",
       "      <td>DFD2202EE08F7A8DC9A57B02ACB81FE2</td>\n",
       "      <td>51EE87E3205C985EF8431D850C786310</td>\n",
       "      <td>2013-01-07 23:54:15</td>\n",
       "      <td>2013-01-07 23:58:20</td>\n",
       "      <td>244</td>\n",
       "      <td>0.007</td>\n",
       "      <td>-73.974602</td>\n",
       "      <td>40.759945</td>\n",
       "      <td>-73.984734</td>\n",
       "      <td>40.759388</td>\n",
       "      <td>black</td>\n",
       "      <td>m</td>\n",
       "      <td>m</td>\n",
       "      <td>white</td>\n",
       "      <td>7</td>\n",
       "      <td>20</td>\n",
       "      <td>7</td>\n",
       "      <td>19</td>\n",
       "    </tr>\n",
       "    <tr>\n",
       "      <th>4</th>\n",
       "      <td>DFD2202EE08F7A8DC9A57B02ACB81FE2</td>\n",
       "      <td>51EE87E3205C985EF8431D850C786310</td>\n",
       "      <td>2013-01-07 23:25:03</td>\n",
       "      <td>2013-01-07 23:34:24</td>\n",
       "      <td>560</td>\n",
       "      <td>0.021</td>\n",
       "      <td>-73.976250</td>\n",
       "      <td>40.748528</td>\n",
       "      <td>-74.002586</td>\n",
       "      <td>40.747868</td>\n",
       "      <td>black</td>\n",
       "      <td>m</td>\n",
       "      <td>m</td>\n",
       "      <td>white</td>\n",
       "      <td>6</td>\n",
       "      <td>20</td>\n",
       "      <td>6</td>\n",
       "      <td>19</td>\n",
       "    </tr>\n",
       "  </tbody>\n",
       "</table>\n",
       "</div>"
      ],
      "text/plain": [
       "                          medallion                      hack_license  \\\n",
       "0  89D227B655E5C82AECF13C3F540D4CF4  BA96DE419E711691B9445D6A6307C170   \n",
       "1  0BD7C8F5BA12B88E0B67BED28BEA73D8  9FD8F69F0804BDB5549F40E9DA1BE472   \n",
       "2  0BD7C8F5BA12B88E0B67BED28BEA73D8  9FD8F69F0804BDB5549F40E9DA1BE472   \n",
       "3  DFD2202EE08F7A8DC9A57B02ACB81FE2  51EE87E3205C985EF8431D850C786310   \n",
       "4  DFD2202EE08F7A8DC9A57B02ACB81FE2  51EE87E3205C985EF8431D850C786310   \n",
       "\n",
       "      pickup_datetime    dropoff_datetime  trip_time_in_secs  trip_distance  \\\n",
       "0 2013-01-01 15:11:48 2013-01-01 15:18:10                382          0.010   \n",
       "1 2013-01-06 00:18:35 2013-01-06 00:22:54                259          0.015   \n",
       "2 2013-01-05 18:49:41 2013-01-05 18:54:23                282          0.011   \n",
       "3 2013-01-07 23:54:15 2013-01-07 23:58:20                244          0.007   \n",
       "4 2013-01-07 23:25:03 2013-01-07 23:34:24                560          0.021   \n",
       "\n",
       "   pickup_longitude  pickup_latitude  dropoff_longitude  dropoff_latitude  \\\n",
       "0        -73.978165        40.757977         -73.989838         40.751171   \n",
       "1        -74.006683        40.731781         -73.994499         40.750660   \n",
       "2        -74.004707        40.737770         -74.009834         40.726002   \n",
       "3        -73.974602        40.759945         -73.984734         40.759388   \n",
       "4        -73.976250        40.748528         -74.002586         40.747868   \n",
       "\n",
       "  driver_race driver_gender requests_gender requests_race  pickup_lat_bin  \\\n",
       "0       black             m               f         white               7   \n",
       "1       black             m               f         white               6   \n",
       "2       black             m               f         white               6   \n",
       "3       black             m               m         white               7   \n",
       "4       black             m               m         white               6   \n",
       "\n",
       "   pickup_long_bin  dropoff_lat_bin  dropoff_long_bin  \n",
       "0               20                7                19  \n",
       "1               19                7                19  \n",
       "2               19                6                19  \n",
       "3               20                7                19  \n",
       "4               20                6                19  "
      ]
     },
     "execution_count": 714,
     "metadata": {},
     "output_type": "execute_result"
    }
   ],
   "source": [
    "historical_data = df[df['pickup_datetime'].dt.day != peak_day]\n",
    "print (len(historical_data))\n",
    "historical_data.head()"
   ]
  },
  {
   "cell_type": "markdown",
   "metadata": {},
   "source": [
    "## Get Peak Hour Driver and Requests"
   ]
  },
  {
   "cell_type": "markdown",
   "metadata": {},
   "source": [
    "##### Number of drivers in peak hour"
   ]
  },
  {
   "cell_type": "code",
   "execution_count": 715,
   "metadata": {},
   "outputs": [
    {
     "name": "stdout",
     "output_type": "stream",
     "text": [
      "Driver Types: 82, Total Drivers: 10814\n"
     ]
    }
   ],
   "source": [
    "peak_hour_driver_types = list(peak_hour_entries.groupby(driver_features)['hack_license'].agg('count').index)\n",
    "print (\"Driver Types: {}, Total Drivers: {}\".format(len(peak_hour_driver_types), \n",
    "                                                    len(set(list(peak_hour_entries['hack_license'])))))\n",
    "# assert len(set(list(peak_hour_drivers.values))) == len(peak_hour_drivers)"
   ]
  },
  {
   "cell_type": "markdown",
   "metadata": {},
   "source": [
    "###### Number of request types in the peak hour and number of requests"
   ]
  },
  {
   "cell_type": "code",
   "execution_count": 716,
   "metadata": {},
   "outputs": [
    {
     "name": "stdout",
     "output_type": "stream",
     "text": [
      "Request Types: 800, Total requests: 35109\n"
     ]
    }
   ],
   "source": [
    "peak_hour_requests = list(peak_hour_entries.groupby(requests_features)['requests_gender'].agg('count').index)\n",
    "print (\"Request Types: {}, Total requests: {}\".format(len(peak_hour_requests), \n",
    "                                                      len(peak_hour_entries)))"
   ]
  },
  {
   "cell_type": "code",
   "execution_count": 13,
   "metadata": {},
   "outputs": [],
   "source": [
    "def calculate_probability(request, driver, kappa=0.5):\n",
    "    if request.race == 'black' and driver.race == 'b':\n",
    "        request_driver_coeff = 0.3\n",
    "    elif request.race == 'white' and driver.race == 'w':\n",
    "        request_driver_coeff = 0.6\n",
    "    else:\n",
    "        request_driver_coeff = 0.1\n",
    "#     p = 0.6 * request.distance + 0.4 * request_driver_coeff\n",
    "    p = request_driver_coeff\n",
    "    p = kappa + (1 - kappa) * p\n",
    "    assert p <= 1 and p >= kappa\n",
    "    return p"
   ]
  },
  {
   "cell_type": "markdown",
   "metadata": {},
   "source": [
    "###### Subsample drivers for peak hour: assign k (=2) drivers for each driver type"
   ]
  },
  {
   "cell_type": "code",
   "execution_count": 717,
   "metadata": {},
   "outputs": [
    {
     "name": "stdout",
     "output_type": "stream",
     "text": [
      "Chosen driver types: 10\n",
      "44\n",
      "123\n",
      "Total number of drivers: 19, Size of set U: 19\n"
     ]
    }
   ],
   "source": [
    "def get_drivers(driver_quota):\n",
    "    subsample_fraction = 0.5\n",
    "    k = 10\n",
    "    random.seed(42)\n",
    "    sampled_peak_hour_drivers = random.sample(peak_hour_driver_types, \n",
    "        k=int(subsample_fraction * len(peak_hour_driver_types)))\n",
    "\n",
    "    # Further downsampling to 4 driver types!\n",
    "    sampled_peak_hour_drivers = random.sample(sampled_peak_hour_drivers, k=20)\n",
    "\n",
    "    print (\"Chosen driver types: {}\".format(len(sampled_peak_hour_drivers)))\n",
    "\n",
    "    drivers = [] # Equivalent to set U\n",
    "    for driver_type in sampled_peak_hour_drivers:\n",
    "        mask = None\n",
    "        bool_peak_entries_match = peak_hour_entries[driver_features] == driver_type\n",
    "        for ft in driver_features:\n",
    "            mask = bool_peak_entries_match[ft].values if mask is None else\\\n",
    "                np.logical_and(mask, bool_peak_entries_match[ft].values)\n",
    "\n",
    "        if (np.count_nonzero(mask)) < 10:\n",
    "            continue\n",
    "        print (np.count_nonzero(mask))\n",
    "        sampled_ids = random.sample(list(peak_hour_entries[mask]['hack_license']), k=k \\\n",
    "                                    if k is not None and k < np.count_nonzero(mask) else np.count_nonzero(mask))\n",
    "        for d_id in sampled_ids:\n",
    "            driver_instance = Driver(**dict(zip(driver_features, driver_type)), d_id=d_id, quota=driver_quota)\n",
    "            if driver_instance not in drivers:\n",
    "                driver_instance.race = np.random.choice(['black', 'white'], p=[0.75, 0.25])[0]\n",
    "                print (driver_instance.race)\n",
    "                drivers.append(driver_instance)\n",
    "\n",
    "    set_unique_ids(drivers)\n",
    "\n",
    "    print (\"Total number of drivers: {}, Size of set U: {}\".format(len(drivers), len(set(drivers))))\n",
    "    return drivers"
   ]
  },
  {
   "cell_type": "markdown",
   "metadata": {},
   "source": [
    "###### Subsample requests for the peak hour: multiply arrival rate of requests by k from each request type"
   ]
  },
  {
   "cell_type": "code",
   "execution_count": 718,
   "metadata": {},
   "outputs": [],
   "source": [
    "def count_total_requests(all_entries, sampled_request_types):\n",
    "    total = 0\n",
    "    for request_vals in sampled_request_types:\n",
    "        mask = None\n",
    "        bool_peak_entries_match = all_entries[requests_features] == request_vals\n",
    "        for ft in requests_features:\n",
    "            mask = np.array(bool_peak_entries_match[ft]) if mask is None else \\\n",
    "                mask & np.array(bool_peak_entries_match[ft])\n",
    "        total += np.count_nonzero(mask)\n",
    "    return total"
   ]
  },
  {
   "cell_type": "code",
   "execution_count": 719,
   "metadata": {},
   "outputs": [
    {
     "name": "stdout",
     "output_type": "stream",
     "text": [
      "Chosen types of requests: 80\n",
      "Total Sampled Requests: 2731\n",
      "Number of Requests: 2731.0, size of set V: 80\n"
     ]
    }
   ],
   "source": [
    "def get_requests():\n",
    "    subsample_fraction = 0.1\n",
    "    k = 1\n",
    "    random.seed(42)\n",
    "    sampled_request_types = random.sample(peak_hour_requests, k=int(subsample_fraction * len(peak_hour_requests)))\n",
    "    print (\"Chosen types of requests: {}\".format(len(sampled_request_types)))\n",
    "    total_sampled_requests = count_total_requests(peak_hour_entries, sampled_request_types)\n",
    "    if subsample_fraction == 1:\n",
    "        assert total_sampled_requests == len(peak_hour_entries)\n",
    "    print (\"Total Sampled Requests: {}\".format(total_sampled_requests))\n",
    "\n",
    "    requests = [] # Equivalent to set V\n",
    "    for request_vals in sampled_request_types:\n",
    "        mask = None\n",
    "        bool_peak_entries_match = peak_hour_entries[requests_features] == request_vals\n",
    "        for ft in requests_features:\n",
    "            mask = np.array(bool_peak_entries_match[ft]) if mask is None else \\\n",
    "                mask & np.array(bool_peak_entries_match[ft])\n",
    "        # Find average distance in miles and put that in request type\n",
    "        requests.append(Request(**dict(zip(requests_features, request_vals)), \n",
    "                                arrival_rate=float(np.count_nonzero(mask)),\n",
    "                                distance=np.mean(peak_hour_entries[mask]['trip_distance'])))\n",
    "\n",
    "    set_unique_ids(requests)\n",
    "\n",
    "    print (\"Initial Number of Requests: {}, size of set V: {}\".format(\n",
    "        np.sum([r.arrival_rate for r in requests]), len(set(requests))))\n",
    "    return requests, np.sum([r.arrival_rate for r in requests])"
   ]
  },
  {
   "cell_type": "code",
   "execution_count": 720,
   "metadata": {},
   "outputs": [],
   "source": [
    "def edge_existence_bool(driver, request):\n",
    "    if driver.latitude == request.start_latitude and driver.longitude == request.start_longitude:\n",
    "        return True\n",
    "    else:\n",
    "        return False\n",
    "\n",
    "def draw_probability_edges(drivers, requests):\n",
    "    edge_matrix = np.zeros((len(drivers), len(requests))) - 1\n",
    "    for d in drivers:\n",
    "        for r in requests:\n",
    "            if edge_existence_bool(d, r):\n",
    "                edge_matrix[d.u_id, r.u_id] = calculate_probability(r, d)\n",
    "    return edge_matrix"
   ]
  },
  {
   "cell_type": "code",
   "execution_count": 721,
   "metadata": {},
   "outputs": [],
   "source": [
    "def filter_out_requests(drivers, requests, total_requests):\n",
    "    probability_matrix = draw_probability_edges(drivers, requests)\n",
    "    new_requests, new_total = [], total_requests\n",
    "    average_arrival_rate = total_requests/len(requests)\n",
    "#     for r in requests:\n",
    "#         if np.count_nonzero(probability_matrix[:,r.u_id] != -1) > 20 and r.arrival_rate >= average_arrival_rate:\n",
    "#             if abs(r.arrival_rate - average_arrival_rate) > 10:\n",
    "#                 new_arrival_rate = int(average_arrival_rate) + random.randint(0, 10)\n",
    "#                 new_total -= (r.arrival_rate - new_arrival_rate)\n",
    "#                 r.arrival_rate = new_arrival_rate\n",
    "#             new_requests.append(r)\n",
    "#         else:\n",
    "#             new_total -= r.arrival_rate\n",
    "\n",
    "    for i in range(len(requests)):\n",
    "        if np.count_nonzero(probability_matrix[:,requests[i].u_id] != -1) > 5:\n",
    "            new_requests.append(requests[i])\n",
    "        else:\n",
    "            new_total -= requests[i].arrival_rate\n",
    "    np.random.seed(42)\n",
    "    new_arrival_rates = np.random.normal(loc=15, scale=1, size=len(new_requests))\n",
    "    for i in range(len(new_requests)):\n",
    "        new_total -= new_requests[i].arrival_rate\n",
    "        new_requests[i].arrival_rate = round(new_arrival_rates[i])\n",
    "        new_total += new_requests[i].arrival_rate\n",
    "    assert int(new_total) == new_total\n",
    "    return new_requests, int(new_total)"
   ]
  },
  {
   "cell_type": "code",
   "execution_count": 722,
   "metadata": {},
   "outputs": [
    {
     "data": {
      "text/plain": [
       "(19, 80)"
      ]
     },
     "execution_count": 722,
     "metadata": {},
     "output_type": "execute_result"
    }
   ],
   "source": [
    "def get_drivers_and_requests(driver_quota):\n",
    "    drivers = get_drivers(driver_quota)\n",
    "    requests, total_sampled_requests = get_requests()\n",
    "    requests, total_sampled_requests = filter_out_requests(drivers, requests, total_sampled_requests)\n",
    "    set_unique_ids(requests)\n",
    "    print (\"Final Number of Requests: {} {}, size of set V: {}\".format(\n",
    "        np.sum([r.arrival_rate for r in requests]), total_sampled_requests, len(set(requests))))\n",
    "    return drivers, requests"
   ]
  }
 ],
 "metadata": {
  "kernelspec": {
   "display_name": "Python 3",
   "language": "python",
   "name": "python3"
  },
  "language_info": {
   "codemirror_mode": {
    "name": "ipython",
    "version": 3
   },
   "file_extension": ".py",
   "mimetype": "text/x-python",
   "name": "python",
   "nbconvert_exporter": "python",
   "pygments_lexer": "ipython3",
   "version": "3.6.2"
  }
 },
 "nbformat": 4,
 "nbformat_minor": 2
}
