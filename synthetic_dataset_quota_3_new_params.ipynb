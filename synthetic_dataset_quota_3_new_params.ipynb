{
 "cells": [
  {
   "cell_type": "code",
   "execution_count": 75,
   "metadata": {},
   "outputs": [],
   "source": [
    "import numpy as np\n",
    "import pandas as pd\n",
    "import random, copy, os\n",
    "random.seed(42)\n",
    "np.random.seed(42)\n",
    "from matplotlib import pyplot as plt\n",
    "from sklearn.preprocessing import MinMaxScaler\n",
    "from multiprocessing import Pool\n",
    "import multiprocessing"
   ]
  },
  {
   "cell_type": "code",
   "execution_count": 79,
   "metadata": {},
   "outputs": [],
   "source": [
    "%run helper.ipynb\n",
    "%run algorithm_functions.ipynb"
   ]
  },
  {
   "cell_type": "code",
   "execution_count": 80,
   "metadata": {},
   "outputs": [],
   "source": [
    "plt.rcParams['font.size'] = 14\n",
    "plt.rcParams['pdf.fonttype'] = 42\n",
    "plt.rcParams['ps.fonttype'] = 42\n",
    "plt.rcParams['axes.labelsize'] = 22\n",
    "plt.rcParams['axes.labelweight'] = 'bold'\n",
    "plt.rcParams['axes.titlesize'] = 19\n",
    "plt.rcParams['axes.linewidth'] = 3\n",
    "plt.rcParams['xtick.labelsize'] = 14\n",
    "plt.rcParams['ytick.labelsize'] = 14\n",
    "plt.rcParams['legend.fontsize'] = 15\n",
    "plt.rcParams['figure.titlesize'] = 22\n",
    "plt.rcParams['lines.linewidth'] = 2.0"
   ]
  },
  {
   "cell_type": "code",
   "execution_count": 39,
   "metadata": {},
   "outputs": [],
   "source": [
    "size_v, size_u, T, driver_quota = 50, 100, 700, 3 #These are fixed now\n",
    "average_arrival_rate = T/size_v\n",
    "average_arrival_rate\n",
    "filename_append = 'quota_{}'.format(driver_quota)"
   ]
  },
  {
   "cell_type": "code",
   "execution_count": 40,
   "metadata": {},
   "outputs": [],
   "source": [
    "drivers, requests = [], []\n",
    "for i in range(size_u):\n",
    "    drivers.append(Driver(d_id=i, driver_race='NA', driver_gender='NA', pickup_lat_bin='NA', \n",
    "                          pickup_long_bin='NA', quota=driver_quota))\n",
    "    \n",
    "arrival_rates = np.random.multinomial(T, [1/size_v]*size_v) # sample from multinomial to ensure that arrival rates sum upto T\n",
    "\n",
    "for i in range(size_v):\n",
    "    requests.append(Request(pickup_lat_bin=i, pickup_long_bin=i, dropoff_lat_bin=i, \n",
    "                            dropoff_long_bin=i, requests_gender=i, requests_race=i, \n",
    "                            arrival_rate=int(arrival_rates[i]), # r_v is randomly chosen from a multinomial distribution\n",
    "                            distance=np.random.random())) # w_f is a random value between 0 and 1\n",
    "set_unique_ids(drivers)\n",
    "set_unique_ids(requests)"
   ]
  },
  {
   "cell_type": "code",
   "execution_count": 41,
   "metadata": {},
   "outputs": [
    {
     "name": "stdout",
     "output_type": "stream",
     "text": [
      "Drivers (|U|): 100, Requests (T): 700, Request Types (|V|): 50\n"
     ]
    }
   ],
   "source": [
    "print (\"Drivers (|U|): {}, Requests (T): {}, Request Types (|V|): {}\".format(len(drivers), \n",
    "                                                                       calculate_T(requests), len(requests)))"
   ]
  },
  {
   "cell_type": "code",
   "execution_count": 42,
   "metadata": {},
   "outputs": [],
   "source": [
    "probability_matrix = np.full((size_u, size_v), -1, dtype=float) # drivers x requests\n",
    "profit_matrix = np.zeros((size_u, size_v), dtype=float)"
   ]
  },
  {
   "cell_type": "code",
   "execution_count": 43,
   "metadata": {},
   "outputs": [],
   "source": [
    "for i in range(size_u):\n",
    "    for j in range(size_v):\n",
    "        # An edge exists with probability of 0.1 and not with a probability of 0.9\n",
    "        edge_exists = np.random.choice([True, False], size=1, p=[0.1, 0.9])\n",
    "        if edge_exists[0]:\n",
    "            probability_matrix[i, j] = np.random.randint(500, 1000, size=1)[0]/1000 # randomly assign probability between 0.5 and 1\n",
    "            profit_matrix[i, j] = requests[j].distance"
   ]
  },
  {
   "cell_type": "code",
   "execution_count": 44,
   "metadata": {},
   "outputs": [],
   "source": [
    "for i in range(probability_matrix.shape[1]):\n",
    "    assert np.count_nonzero(probability_matrix[:,i] != -1) > 0\n",
    "for i in range(probability_matrix.shape[0]):\n",
    "    assert np.count_nonzero(probability_matrix[i,:] != -1) > 0"
   ]
  },
  {
   "cell_type": "code",
   "execution_count": 45,
   "metadata": {},
   "outputs": [
    {
     "name": "stdout",
     "output_type": "stream",
     "text": [
      "Drivers' in-degree, average: 5.35, min: 2, max: 10\n",
      "Riders' in-degree, average: 10.7, min: 5, max: 18\n"
     ]
    }
   ],
   "source": [
    "r_vs = []\n",
    "for r in requests:\n",
    "    r_vs.append(r.arrival_rate)\n",
    "min(r_vs), max(r_vs)\n",
    "\n",
    "in_degree_v = []\n",
    "for i in range(len(requests)):\n",
    "    in_degree_v.append(np.count_nonzero(probability_matrix[:,i] != -1))\n",
    "\n",
    "in_degree_u = []\n",
    "for i in range(len(drivers)):\n",
    "    in_degree_u.append(np.count_nonzero(probability_matrix[i,:] != -1))\n",
    "\n",
    "print (\"Drivers' in-degree, average: {}, min: {}, max: {}\\nRiders' in-degree, average: {}, min: {}, max: {}\"\\\n",
    "       .format(np.mean(in_degree_u), min(in_degree_u), max(in_degree_u), \n",
    "               np.mean(in_degree_v), min(in_degree_v), max(in_degree_v)))"
   ]
  },
  {
   "cell_type": "code",
   "execution_count": 46,
   "metadata": {},
   "outputs": [],
   "source": [
    "from cvxopt.base import matrix as m\n",
    "from cvxopt import solvers\n",
    "from cvxopt.modeling import op, dot, variable, max, min"
   ]
  },
  {
   "cell_type": "code",
   "execution_count": 47,
   "metadata": {},
   "outputs": [],
   "source": [
    "x_f = variable(np.count_nonzero(probability_matrix != -1))\n",
    "profit, c = get_profit_objective(x_f, probability_matrix, profit_matrix)"
   ]
  },
  {
   "cell_type": "code",
   "execution_count": 48,
   "metadata": {},
   "outputs": [],
   "source": [
    "x_fair = variable(np.count_nonzero(probability_matrix != -1))\n",
    "fairness = get_fairness_objective(x_fair, probability_matrix, requests)"
   ]
  },
  {
   "cell_type": "code",
   "execution_count": 49,
   "metadata": {},
   "outputs": [],
   "source": [
    "def get_inequalities_local(x_f, probability_matrix, requests, return_coefficients=False):\n",
    "    offset = 0\n",
    "    A, b = [], [] # model all inequalities as A * x <= b\n",
    "    # models the inequalities 3 and 4 in the writeup\n",
    "    for i in range(probability_matrix.shape[0]): # iterate over all drivers\n",
    "        a1, a2 = [0] * len(x_f), [0] * len(x_f) # coefficients of inequalities\n",
    "        edges_count = np.count_nonzero(probability_matrix[i] != -1)\n",
    "        edges_probabilities = probability_matrix[i][np.where(probability_matrix[i] != -1)]\n",
    "        assert len(edges_probabilities) == edges_count # sanity check\n",
    "        a1[offset:offset + edges_count] = edges_probabilities\n",
    "        a2[offset:offset + edges_count] = [1] * edges_count\n",
    "        A.append(a1)\n",
    "        A.append(a2)\n",
    "        b.append(1.0)\n",
    "        b.append(drivers[i].quota)\n",
    "        offset += edges_count\n",
    "    # Models the inequality -1 * x_f <= 0 for all edges\n",
    "    for i in range(len(x_f)):\n",
    "        a1 = [0] * len(x_f)\n",
    "        a1[i] = -1\n",
    "        A.append(a1)\n",
    "        b.append(0.0)\n",
    "    # Models inequality 5 in the writeup\n",
    "    for j in range(probability_matrix.shape[1]):# iterate over all request types\n",
    "        # j -> request; i-> driver\n",
    "        a1 = [0] * len(x_f)\n",
    "        for i in np.where(probability_matrix[:,j] != -1)[0]:\n",
    "            a1[coordinate_to_index(i, j, probability_matrix)] = 1\n",
    "        A.append(a1)\n",
    "        b.append(requests[j].arrival_rate)\n",
    "    print (len(A), len(b), len(A[0]), len(x_f))\n",
    "    \n",
    "    A, b = m(A).T, m(np.array(b))\n",
    "\n",
    "    if not return_coefficients:\n",
    "        inequality = (A * x_f <= b)\n",
    "        return inequality\n",
    "    else:\n",
    "        return A, b"
   ]
  },
  {
   "cell_type": "code",
   "execution_count": 50,
   "metadata": {
    "scrolled": true
   },
   "outputs": [
    {
     "name": "stdout",
     "output_type": "stream",
     "text": [
      "785 785 535 535\n"
     ]
    }
   ],
   "source": [
    "inequality = get_inequalities_local(x_f, probability_matrix, requests)"
   ]
  },
  {
   "cell_type": "code",
   "execution_count": 51,
   "metadata": {},
   "outputs": [],
   "source": [
    "lp_profit = op(profit, inequality)\n",
    "lp_profit.solve(solver='glpk')"
   ]
  },
  {
   "cell_type": "code",
   "execution_count": 52,
   "metadata": {},
   "outputs": [
    {
     "data": {
      "text/plain": [
       "(1.99203187250996, -2.4454251643725913e-16)"
      ]
     },
     "execution_count": 52,
     "metadata": {},
     "output_type": "execute_result"
    }
   ],
   "source": [
    "max(x_f.value), min(x_f.value)"
   ]
  },
  {
   "cell_type": "code",
   "execution_count": 53,
   "metadata": {},
   "outputs": [
    {
     "name": "stdout",
     "output_type": "stream",
     "text": [
      "785 785 535 535\n"
     ]
    }
   ],
   "source": [
    "inequality_fairness = get_inequalities_local(x_fair, probability_matrix, requests)"
   ]
  },
  {
   "cell_type": "code",
   "execution_count": 54,
   "metadata": {},
   "outputs": [],
   "source": [
    "lp_fairness = op(fairness, inequality_fairness)\n",
    "lp_fairness.solve(solver='glpk')"
   ]
  },
  {
   "cell_type": "code",
   "execution_count": 55,
   "metadata": {},
   "outputs": [
    {
     "name": "stdout",
     "output_type": "stream",
     "text": [
      "When optimizing for fairness, fairness: 0.1428571428571428, profit: 48.1445199515579\n",
      "When optimizing for profit, fairness: -1.057355261547768e-17, profit: 83.47685356188364\n"
     ]
    }
   ],
   "source": [
    "optimal_profit = -1 * lp_profit.objective.value()[0]\n",
    "optimal_fairness = -1 * lp_fairness.objective.value()[0]\n",
    "print (\"When optimizing for fairness, fairness: {}, profit: {}\".format(optimal_fairness, \n",
    "                                                                      -1 * dot(c, x_fair).value()[0]))\n",
    "print (\"When optimizing for profit, fairness: {}, profit: {}\".format(\n",
    "    -1 * get_fairness_objective(x_f, probability_matrix, requests).value()[0], optimal_profit))"
   ]
  },
  {
   "cell_type": "code",
   "execution_count": 56,
   "metadata": {},
   "outputs": [],
   "source": [
    "lp_solution_sanity_check(x_f, x_fair, probability_matrix, requests)"
   ]
  },
  {
   "cell_type": "code",
   "execution_count": 57,
   "metadata": {},
   "outputs": [],
   "source": [
    "alphas, betas = np.arange(0.,1.01,0.1), np.arange(0.,1.01,0.1)\n",
    "num_loops = 5000"
   ]
  },
  {
   "cell_type": "code",
   "execution_count": 58,
   "metadata": {},
   "outputs": [],
   "source": [
    "all_requests = []\n",
    "for r in requests:\n",
    "    all_requests += [r] * int(r.arrival_rate)\n",
    "random.shuffle(all_requests)"
   ]
  },
  {
   "cell_type": "code",
   "execution_count": null,
   "metadata": {},
   "outputs": [],
   "source": [
    "matching_results = get_matching_results(all_requests, drivers, probability_matrix, \n",
    "                                            x_f, x_fair, alphas, num_loops)"
   ]
  },
  {
   "cell_type": "code",
   "execution_count": null,
   "metadata": {},
   "outputs": [],
   "source": [
    "edges_count_results = get_edges_count_results(all_requests, matching_results, requests)"
   ]
  },
  {
   "cell_type": "code",
   "execution_count": 81,
   "metadata": {},
   "outputs": [
    {
     "name": "stdout",
     "output_type": "stream",
     "text": [
      "0.5647760336248403 0.5220000000000002\n",
      "0.5641172495589387 0.46820000000000017\n",
      "0.5669617285625664 0.4866666666666668\n",
      "0.5688358640167623 0.4840000000000002\n",
      "0.5715768910415062 0.4817333333333336\n",
      "0.5717734974541382 0.4976666666666669\n",
      "0.5724615594458788 0.4896666666666669\n",
      "0.5730610375299616 0.47820000000000024\n",
      "0.5734850876226486 0.48033333333333356\n",
      "0.5760367680306439 0.48793333333333355\n",
      "0.574225228268836 0.48033333333333356\n"
     ]
    }
   ],
   "source": [
    "profit_crs, profit_errors, fairness_crs, fairness_errors = get_profit_fairness_crs(\n",
    "    matching_results, edges_count_results, num_loops, requests, alphas, optimal_profit, optimal_fairness)"
   ]
  },
  {
   "cell_type": "code",
   "execution_count": 97,
   "metadata": {},
   "outputs": [
    {
     "data": {
      "image/png": "[encoded data removed]",
      "text/plain": [
       "<Figure size 432x288 with 1 Axes>"
      ]
     },
     "metadata": {
      "needs_background": "light"
     },
     "output_type": "display_data"
    },
    {
     "data": {
      "text/plain": [
       "<Figure size 216x216 with 0 Axes>"
      ]
     },
     "metadata": {},
     "output_type": "display_data"
    }
   ],
   "source": [
    "plot_lines([fairness_crs, [x/np.e for x in 1-alphas], profit_crs, [x/np.e for x in alphas]], \n",
    "           [fairness_errors, [0 for x in alphas], profit_errors, [0 for x in alphas]],\n",
    "            [\"{:.1f}\".format(x) for x in alphas], alphas, \n",
    "           r'$\\beta = 1 - \\alpha; \\Delta = {}$; Synthetic Data'.format(driver_quota), \n",
    "           r'$\\alpha$', 'Competitive Ratios', ['-', '--', '-', '--'], ['red', 'red', 'blue', 'blue'], \n",
    "            ['NAdap (fairness)', 'Lower Bound (fairness)', 'NAdap (profit)', 'Lower Bound (profit)'], \n",
    "            'plots', 'profit_fairness_crs_vs_alpha_{}_new_params'.format(filename_append), fmt='png', separate_legend=True)"
   ]
  },
  {
   "cell_type": "markdown",
   "metadata": {},
   "source": [
    "## Uniform and Greedy algorithms"
   ]
  },
  {
   "cell_type": "code",
   "execution_count": null,
   "metadata": {},
   "outputs": [],
   "source": [
    "uniform_params, greedy_params = [], []\n",
    "for i in range(num_loops):\n",
    "    drivers_copy = [copy.deepcopy(d) for d in drivers]\n",
    "    uniform_params.append([all_requests, drivers_copy, probability_matrix])\n",
    "for i in range(num_loops):\n",
    "    drivers_copy = [copy.deepcopy(d) for d in drivers]\n",
    "    greedy_params.append([all_requests, drivers_copy, probability_matrix])"
   ]
  },
  {
   "cell_type": "code",
   "execution_count": null,
   "metadata": {},
   "outputs": [],
   "source": [
    "with Pool(multiprocessing.cpu_count()) as p:\n",
    "    uniform_results = p.starmap(run_uniform, uniform_params)"
   ]
  },
  {
   "cell_type": "code",
   "execution_count": null,
   "metadata": {},
   "outputs": [],
   "source": [
    "with Pool(multiprocessing.cpu_count()) as p:\n",
    "    greedy_results = p.starmap(run_greedy, greedy_params)"
   ]
  },
  {
   "cell_type": "code",
   "execution_count": null,
   "metadata": {},
   "outputs": [],
   "source": [
    "greedy_profit = 0\n",
    "for res in greedy_results:\n",
    "    greedy_profit += res[1]\n",
    "greedy_profit /= num_loops\n",
    "greedy_profit_cr = greedy_profit/optimal_profit\n",
    "greedy_profit_cr"
   ]
  },
  {
   "cell_type": "code",
   "execution_count": null,
   "metadata": {},
   "outputs": [],
   "source": [
    "greedy_fairness_measure_params = []\n",
    "for i in range(num_loops):\n",
    "    greedy_fairness_measure_params.append([all_requests, greedy_results[i][0], requests])\n",
    "\n",
    "with Pool(multiprocessing.cpu_count()) as p:\n",
    "    greedy_edges_count_results = p.starmap(measure_fairness_edges_count, greedy_fairness_measure_params)"
   ]
  },
  {
   "cell_type": "code",
   "execution_count": null,
   "metadata": {},
   "outputs": [],
   "source": [
    "greedy_fairness_cr = calculate_fairness_from_array(greedy_edges_count_results, \n",
    "                                                   num_loops, requests)/optimal_fairness\n",
    "greedy_fairness_cr"
   ]
  },
  {
   "cell_type": "code",
   "execution_count": null,
   "metadata": {},
   "outputs": [],
   "source": [
    "uniform_profit = 0\n",
    "for res in uniform_results:\n",
    "    uniform_profit += res[1]\n",
    "uniform_profit /= num_loops\n",
    "uniform_profit_cr = uniform_profit/optimal_profit\n",
    "uniform_profit_cr"
   ]
  },
  {
   "cell_type": "code",
   "execution_count": null,
   "metadata": {},
   "outputs": [],
   "source": [
    "uniform_fairness_measure_params = []\n",
    "for i in range(num_loops):\n",
    "    uniform_fairness_measure_params.append([all_requests, uniform_results[i][0], requests])\n",
    "\n",
    "with Pool(multiprocessing.cpu_count()) as p:\n",
    "    uniform_edges_count_results = p.starmap(measure_fairness_edges_count, uniform_fairness_measure_params)"
   ]
  },
  {
   "cell_type": "code",
   "execution_count": null,
   "metadata": {},
   "outputs": [],
   "source": [
    "uniform_fairness_cr = calculate_fairness_from_array(uniform_edges_count_results, \n",
    "                                                    num_loops, requests)/optimal_fairness\n",
    "uniform_fairness_cr"
   ]
  },
  {
   "cell_type": "code",
   "execution_count": 98,
   "metadata": {},
   "outputs": [
    {
     "data": {
      "image/png": "[encoded data removed]",
      "text/plain": [
       "<Figure size 432x288 with 1 Axes>"
      ]
     },
     "metadata": {
      "needs_background": "light"
     },
     "output_type": "display_data"
    },
    {
     "data": {
      "text/plain": [
       "<Figure size 216x216 with 0 Axes>"
      ]
     },
     "metadata": {},
     "output_type": "display_data"
    }
   ],
   "source": [
    "all_x_vals = [fairness_crs , [uniform_fairness_cr], [greedy_fairness_cr]]\n",
    "all_y_vals = [profit_crs, [uniform_profit_cr], [greedy_profit_cr]]\n",
    "labels = [r'$NAdap (\\alpha, \\beta)$', 'Uniform', 'Greedy']\n",
    "annotations = ['({:.1f}, {:.1f})'.format(alphas[i], 1-alphas[i]) if i == np.argmin(fairness_crs) or \\\n",
    "               i == np.argmax(fairness_crs) or i == np.argmin(profit_crs) or \\\n",
    "               i == np.argmax(profit_crs) else '' for i in range(len(alphas))] + ['', '']\n",
    "annotation_positions = [(fairness_crs[i]/2 + 4*np.ptp(fairness_crs) if alphas[i] == 0.1 else fairness_crs[i]/2, \n",
    "                         profit_crs[i] - np.ptp(profit_crs) if alphas[i] == 0.1 else\\\n",
    "                         profit_crs[i] - np.ptp(profit_crs)/2) for i in range(len(alphas))]\n",
    "colors = ['blue', 'orange', 'red']\n",
    "shapes = ['o', 'X', 'D']\n",
    "plot_scatter(all_x_vals, all_y_vals, colors, shapes, annotations, annotation_positions,\n",
    "             r'$\\Delta = {}$; Synthetic Data'.format(driver_quota), \n",
    "             'Fairness CR', 'Profit CR', 'plots', 'fairness_vs_profit_cr_scatter_{}_new_params'.format(filename_append),\n",
    "            labels=labels, fmt='png', separate_legend=True)"
   ]
  },
  {
   "cell_type": "markdown",
   "metadata": {},
   "source": [
    "### For all other alpha, beta where alpha + beta < 1"
   ]
  },
  {
   "cell_type": "code",
   "execution_count": 37,
   "metadata": {},
   "outputs": [],
   "source": [
    "remaining_algorithm_params = []\n",
    "coordinate_to_offset = {}\n",
    "offset = 0\n",
    "for alpha_i in range(len(alphas)):\n",
    "    for beta_j in range(len(betas)):\n",
    "        if alphas[alpha_i] + betas[beta_j] <= 1:\n",
    "            coordinate_to_offset[(alpha_i, beta_j)] = offset\n",
    "            offset += 1\n",
    "            for i in range(num_loops):\n",
    "                remaining_algorithm_params.append([all_requests, [copy.deepcopy(d) for d in drivers],\n",
    "                                                   probability_matrix, x_f, x_fair, \n",
    "                                                   alphas[alpha_i], betas[beta_j]])"
   ]
  },
  {
   "cell_type": "code",
   "execution_count": null,
   "metadata": {},
   "outputs": [],
   "source": [
    "with Pool(multiprocessing.cpu_count()) as p:\n",
    "    remaining_matching_results = p.starmap(run_algorithm, remaining_algorithm_params)"
   ]
  },
  {
   "cell_type": "code",
   "execution_count": null,
   "metadata": {},
   "outputs": [],
   "source": [
    "remaining_fairness_measure_params = []\n",
    "for alpha_i in range(len(alphas)):\n",
    "    for beta_j in range(len(betas)):\n",
    "        if alphas[alpha_i] + betas[beta_j] <= 1:\n",
    "            for i in range(num_loops):\n",
    "                remaining_fairness_measure_params.append([all_requests, \n",
    "                            remaining_matching_results[coordinate_to_offset[(alpha_i, beta_j)] + i][2], requests])"
   ]
  },
  {
   "cell_type": "code",
   "execution_count": null,
   "metadata": {},
   "outputs": [],
   "source": [
    "with Pool(multiprocessing.cpu_count()) as p:\n",
    "    remaining_edges_count_results = p.starmap(measure_fairness_edges_count, remaining_fairness_measure_params)"
   ]
  },
  {
   "cell_type": "code",
   "execution_count": null,
   "metadata": {},
   "outputs": [],
   "source": [
    "expected_fairness_map, expected_profit_map = np.full((len(alphas), len(betas)), np.nan), \\\n",
    "                                                np.full((len(alphas), len(betas)), np.nan)\n",
    "for alpha_i in range(len(alphas)):\n",
    "    for beta_j in range(len(betas)):\n",
    "        if alphas[alpha_i] + betas[beta_j] <= 1:\n",
    "            offset_index = coordinate_to_offset[(alpha_i, beta_j)]\n",
    "            assert offset_index*num_loops <= len(remaining_edges_count_results) - num_loops\n",
    "            \n",
    "            remaining_fairness_counts = remaining_edges_count_results[offset_index * num_loops:(offset_index+1)*num_loops]\n",
    "            print ((np.sum(remaining_fairness_counts, axis=0)/num_loops))\n",
    "            expected_fairness_map[len(alphas) - alpha_i - 1, beta_j] = \\\n",
    "                calculate_fairness_from_array(remaining_fairness_counts, num_loops, requests)/optimal_fairness\n",
    "            expected_profit = 0\n",
    "            for i in range(num_loops):\n",
    "                expected_profit += remaining_matching_results[offset_index + i][0]\n",
    "            expected_profit /= num_loops\n",
    "            expected_profit_map[len(alphas) - alpha_i - 1, beta_j] = expected_profit/optimal_profit\n",
    "#         elif alphas[alpha_i] + betas[beta_j] == 1:\n",
    "#             expected_fairness_map[len(alphas) - alpha_i - 1, beta_j] = fairness_crs[alpha_i]\n",
    "#             expected_profit_map[len(alphas) - alpha_i - 1, beta_j] = profit_crs[alpha_i]"
   ]
  },
  {
   "cell_type": "code",
   "execution_count": null,
   "metadata": {},
   "outputs": [],
   "source": [
    "expected_fairness_map"
   ]
  },
  {
   "cell_type": "code",
   "execution_count": null,
   "metadata": {},
   "outputs": [],
   "source": [
    "plot_heatmaps([expected_profit_map], x_labels=[str(\"{:.1f}\".format(x)) for x in betas], \n",
    "              y_labels=[str(\"{:.1f}\".format(x)) for x in alphas[::-1]], x_title='Beta', y_title='Alpha', \n",
    "              subplot_titles=['Expected Profit (Synthetic)'], subfolder='plots', \n",
    "              filename='heatmap_expected_profit_synthetic_{}_new_params'.format(filename_append))\n",
    "plot_heatmaps([expected_fairness_map], x_labels=[str(\"{:.1f}\".format(x)) for x in betas], \n",
    "              y_labels=[str(\"{:.1f}\".format(x)) for x in alphas[::-1]], x_title='Beta', y_title='Alpha', \n",
    "              subplot_titles=['Expected Fairness (Synthetic)'], subfolder='plots', \n",
    "              filename='heatmap_expected_fairness_synthetic_{}_new_params'.format(filename_append))"
   ]
  },
  {
   "cell_type": "code",
   "execution_count": null,
   "metadata": {},
   "outputs": [],
   "source": []
  }
 ],
 "metadata": {
  "kernelspec": {
   "display_name": "Python 3",
   "language": "python",
   "name": "python3"
  },
  "language_info": {
   "codemirror_mode": {
    "name": "ipython",
    "version": 3
   },
   "file_extension": ".py",
   "mimetype": "text/x-python",
   "name": "python",
   "nbconvert_exporter": "python",
   "pygments_lexer": "ipython3",
   "version": "3.5.4"
  }
 },
 "nbformat": 4,
 "nbformat_minor": 2
}
