{
 "cells": [
  {
   "cell_type": "code",
   "execution_count": 2,
   "metadata": {},
   "outputs": [],
   "source": [
    "import numpy as np\n",
    "import pandas as pd\n",
    "import random, copy, os\n",
    "random.seed(42)\n",
    "np.random.seed(42)\n",
    "from matplotlib import pyplot as plt\n",
    "from sklearn.preprocessing import MinMaxScaler\n",
    "from multiprocessing import Pool\n",
    "import multiprocessing"
   ]
  },
  {
   "cell_type": "code",
   "execution_count": 3,
   "metadata": {},
   "outputs": [],
   "source": [
    "%run helper.ipynb"
   ]
  },
  {
   "cell_type": "code",
   "execution_count": 4,
   "metadata": {},
   "outputs": [],
   "source": [
    "%run algorithm_functions.ipynb"
   ]
  },
  {
   "cell_type": "code",
   "execution_count": 5,
   "metadata": {},
   "outputs": [],
   "source": [
    "plt.rcParams['font.size'] = 14\n",
    "plt.rcParams['pdf.fonttype'] = 42\n",
    "plt.rcParams['ps.fonttype'] = 42\n",
    "plt.rcParams['axes.labelsize'] = 22\n",
    "plt.rcParams['axes.labelweight'] = 'bold'\n",
    "plt.rcParams['axes.titlesize'] = 19\n",
    "plt.rcParams['axes.linewidth'] = 3\n",
    "plt.rcParams['xtick.labelsize'] = 14\n",
    "plt.rcParams['ytick.labelsize'] = 14\n",
    "plt.rcParams['legend.fontsize'] = 15\n",
    "plt.rcParams['figure.titlesize'] = 22\n",
    "plt.rcParams['lines.linewidth'] = 2.0"
   ]
  },
  {
   "cell_type": "code",
   "execution_count": 6,
   "metadata": {},
   "outputs": [
    {
     "name": "stdout",
     "output_type": "stream",
     "text": [
      "Total number of drivers: 32092, total driver types: 716\n",
      "Total requests: 14486242, types of requests: 8676, total rides: 14486242\n",
      "13965626\n",
      "Driver Types: 82, Total Drivers: 10814\n",
      "Request Types: 800, Total requests: 35109\n"
     ]
    }
   ],
   "source": [
    "%run data_loader.ipynb"
   ]
  },
  {
   "cell_type": "code",
   "execution_count": 7,
   "metadata": {},
   "outputs": [],
   "source": [
    "driver_quota = 2\n",
    "filename_append = 'quota_{}'.format(driver_quota)"
   ]
  },
  {
   "cell_type": "markdown",
   "metadata": {},
   "source": [
    "## Load drivers and requests"
   ]
  },
  {
   "cell_type": "code",
   "execution_count": 8,
   "metadata": {},
   "outputs": [
    {
     "name": "stdout",
     "output_type": "stream",
     "text": [
      "Chosen driver types: 20\n",
      "44\n",
      "b\n",
      "w\n",
      "b\n",
      "b\n",
      "b\n",
      "b\n",
      "b\n",
      "w\n",
      "b\n",
      "b\n",
      "123\n",
      "b\n",
      "w\n",
      "w\n",
      "b\n",
      "b\n",
      "b\n",
      "b\n",
      "b\n",
      "b\n",
      "b\n",
      "222\n",
      "b\n",
      "b\n",
      "b\n",
      "b\n",
      "b\n",
      "w\n",
      "b\n",
      "b\n",
      "b\n",
      "b\n",
      "1863\n",
      "b\n",
      "b\n",
      "b\n",
      "w\n",
      "w\n",
      "w\n",
      "b\n",
      "b\n",
      "b\n",
      "b\n",
      "33\n",
      "b\n",
      "b\n",
      "b\n",
      "w\n",
      "b\n",
      "b\n",
      "b\n",
      "b\n",
      "Total number of drivers: 48, Size of set U: 48\n",
      "Chosen types of requests: 80\n",
      "Total Sampled Requests: 2731\n",
      "Initial Number of Requests: 2731.0, size of set V: 80\n",
      "Final Number of Requests: 359.0 359, size of set V: 24\n"
     ]
    }
   ],
   "source": [
    "drivers, requests = get_drivers_and_requests(driver_quota=driver_quota)"
   ]
  },
  {
   "cell_type": "code",
   "execution_count": 9,
   "metadata": {},
   "outputs": [
    {
     "name": "stdout",
     "output_type": "stream",
     "text": [
      "black\n",
      "white\n",
      "white\n",
      "white\n",
      "black\n",
      "black\n",
      "white\n",
      "black\n",
      "black\n",
      "black\n",
      "white\n",
      "black\n",
      "black\n",
      "white\n",
      "white\n",
      "white\n",
      "white\n",
      "white\n",
      "white\n",
      "white\n",
      "white\n",
      "white\n",
      "white\n",
      "black\n",
      "b 2\n",
      "w 2\n",
      "b 2\n",
      "b 2\n",
      "b 2\n",
      "b 2\n",
      "b 2\n",
      "w 2\n",
      "b 2\n",
      "b 2\n",
      "b 2\n",
      "w 2\n",
      "w 2\n",
      "b 2\n",
      "b 2\n",
      "b 2\n",
      "b 2\n",
      "b 2\n",
      "b 2\n",
      "b 2\n",
      "b 2\n",
      "b 2\n",
      "b 2\n",
      "b 2\n",
      "b 2\n",
      "w 2\n",
      "b 2\n",
      "b 2\n",
      "b 2\n",
      "b 2\n",
      "b 2\n",
      "b 2\n",
      "b 2\n",
      "w 2\n",
      "w 2\n",
      "w 2\n",
      "b 2\n",
      "b 2\n",
      "b 2\n",
      "b 2\n",
      "b 2\n",
      "b 2\n",
      "b 2\n",
      "w 2\n",
      "b 2\n",
      "b 2\n",
      "b 2\n",
      "b 2\n"
     ]
    }
   ],
   "source": [
    "for r in requests:\n",
    "    print (r.race)\n",
    "for d in drivers:\n",
    "    print (d.race, d.quota)"
   ]
  },
  {
   "cell_type": "markdown",
   "metadata": {},
   "source": [
    "### Construct a matrix containing the edges, matrix = drivers x requests"
   ]
  },
  {
   "cell_type": "code",
   "execution_count": 10,
   "metadata": {},
   "outputs": [],
   "source": [
    "probability_matrix = draw_probability_edges(drivers, requests)"
   ]
  },
  {
   "cell_type": "code",
   "execution_count": 11,
   "metadata": {},
   "outputs": [
    {
     "name": "stdout",
     "output_type": "stream",
     "text": [
      "0.55 0.8 0.6117857142857143\n"
     ]
    }
   ],
   "source": [
    "print (np.min(probability_matrix[probability_matrix != -1]), \n",
    "       np.max(probability_matrix[probability_matrix != -1]), \n",
    "       np.mean(probability_matrix[probability_matrix != -1]))\n",
    "for col in range(probability_matrix.shape[1]):\n",
    "    if np.all(probability_matrix[:,col] == -1):\n",
    "        print (requests[col])"
   ]
  },
  {
   "cell_type": "code",
   "execution_count": 12,
   "metadata": {},
   "outputs": [
    {
     "data": {
      "text/plain": [
       "array([[0.        , 0.        , 0.06585   , ..., 0.        , 0.        ,\n",
       "        0.        ],\n",
       "       [0.        , 0.        , 0.06585   , ..., 0.        , 0.        ,\n",
       "        0.        ],\n",
       "       [0.        , 0.        , 0.06585   , ..., 0.        , 0.        ,\n",
       "        0.        ],\n",
       "       ...,\n",
       "       [0.        , 0.        , 0.        , ..., 0.01764699, 0.02228943,\n",
       "        0.0245    ],\n",
       "       [0.        , 0.        , 0.        , ..., 0.01764699, 0.02228943,\n",
       "        0.0245    ],\n",
       "       [0.        , 0.        , 0.        , ..., 0.01764699, 0.02228943,\n",
       "        0.0245    ]])"
      ]
     },
     "execution_count": 12,
     "metadata": {},
     "output_type": "execute_result"
    }
   ],
   "source": [
    "profit_matrix = np.zeros(probability_matrix.shape)\n",
    "for i,j in zip(*np.where(probability_matrix != -1)):\n",
    "    profit_matrix[i,j] = requests[j].distance\n",
    "profit_matrix "
   ]
  },
  {
   "cell_type": "code",
   "execution_count": 13,
   "metadata": {},
   "outputs": [
    {
     "data": {
      "text/plain": [
       "(420, 420, 1152)"
      ]
     },
     "execution_count": 13,
     "metadata": {},
     "output_type": "execute_result"
    }
   ],
   "source": [
    "(np.count_nonzero(probability_matrix != -1), np.count_nonzero(profit_matrix), \n",
    "probability_matrix.shape[0] * probability_matrix.shape[1])"
   ]
  },
  {
   "cell_type": "markdown",
   "metadata": {},
   "source": [
    "## In-degrees of drivers and riders"
   ]
  },
  {
   "cell_type": "code",
   "execution_count": 14,
   "metadata": {},
   "outputs": [
    {
     "name": "stdout",
     "output_type": "stream",
     "text": [
      "Drivers' in-degree, average: 8.75, min: 6, max: 10\n",
      "Riders' in-degree, average: 17.5, min: 10, max: 28\n"
     ]
    }
   ],
   "source": [
    "r_vs = []\n",
    "for r in requests:\n",
    "    r_vs.append(r.arrival_rate)\n",
    "min(r_vs), max(r_vs)\n",
    "\n",
    "in_degree_v = []\n",
    "for i in range(len(requests)):\n",
    "    in_degree_v.append(np.count_nonzero(probability_matrix[:,i] != -1))\n",
    "\n",
    "in_degree_u = []\n",
    "for i in range(len(drivers)):\n",
    "    in_degree_u.append(np.count_nonzero(probability_matrix[i,:] != -1))\n",
    "\n",
    "print (\"Drivers' in-degree, average: {}, min: {}, max: {}\\nRiders' in-degree, average: {}, min: {}, max: {}\"\\\n",
    "       .format(np.mean(in_degree_u), min(in_degree_u), max(in_degree_u), \n",
    "               np.mean(in_degree_v), min(in_degree_v), max(in_degree_v)))"
   ]
  },
  {
   "cell_type": "markdown",
   "metadata": {},
   "source": [
    "### We have all variables now, use them to solve the LP"
   ]
  },
  {
   "cell_type": "code",
   "execution_count": 15,
   "metadata": {},
   "outputs": [],
   "source": [
    "from cvxopt.base import matrix as m\n",
    "from cvxopt import solvers\n",
    "from cvxopt.modeling import op, dot, variable, max, min"
   ]
  },
  {
   "cell_type": "code",
   "execution_count": 16,
   "metadata": {},
   "outputs": [],
   "source": [
    "x_f, x_fair = variable(np.count_nonzero(probability_matrix != -1)), \\\n",
    "    variable(np.count_nonzero(probability_matrix != -1))"
   ]
  },
  {
   "cell_type": "markdown",
   "metadata": {},
   "source": [
    "### Profit Objective"
   ]
  },
  {
   "cell_type": "code",
   "execution_count": 17,
   "metadata": {},
   "outputs": [
    {
     "data": {
      "text/plain": [
       "<linear function of length 1>"
      ]
     },
     "execution_count": 17,
     "metadata": {},
     "output_type": "execute_result"
    }
   ],
   "source": [
    "profit, c = get_profit_objective(x_f, probability_matrix, profit_matrix)\n",
    "profit"
   ]
  },
  {
   "cell_type": "markdown",
   "metadata": {},
   "source": [
    "### Fairness Objective"
   ]
  },
  {
   "cell_type": "code",
   "execution_count": 18,
   "metadata": {},
   "outputs": [
    {
     "data": {
      "text/plain": [
       "<convex function of length 1>"
      ]
     },
     "execution_count": 18,
     "metadata": {},
     "output_type": "execute_result"
    }
   ],
   "source": [
    "fairness = get_fairness_objective(x_fair, probability_matrix, requests)\n",
    "fairness"
   ]
  },
  {
   "cell_type": "markdown",
   "metadata": {},
   "source": [
    "### Get LP constraints"
   ]
  },
  {
   "cell_type": "code",
   "execution_count": 19,
   "metadata": {},
   "outputs": [
    {
     "name": "stdout",
     "output_type": "stream",
     "text": [
      "540 540 420 420\n",
      "<class 'cvxopt.modeling._function'>\n"
     ]
    }
   ],
   "source": [
    "inequality = get_inequalities(x_f, probability_matrix, requests)"
   ]
  },
  {
   "cell_type": "code",
   "execution_count": 20,
   "metadata": {},
   "outputs": [],
   "source": [
    "lp_profit = op(profit, inequality)\n",
    "lp_profit.solve(solver='glpk')"
   ]
  },
  {
   "cell_type": "code",
   "execution_count": 21,
   "metadata": {},
   "outputs": [
    {
     "data": {
      "text/plain": [
       "(1.8181818181818181, 0.0)"
      ]
     },
     "execution_count": 21,
     "metadata": {},
     "output_type": "execute_result"
    }
   ],
   "source": [
    "max(x_f.value), min(x_f.value)"
   ]
  },
  {
   "cell_type": "code",
   "execution_count": 22,
   "metadata": {},
   "outputs": [
    {
     "name": "stdout",
     "output_type": "stream",
     "text": [
      "540 540 420 420\n",
      "<class 'cvxopt.modeling._function'>\n"
     ]
    }
   ],
   "source": [
    "inequality_fairness = get_inequalities(x_fair, probability_matrix, requests)"
   ]
  },
  {
   "cell_type": "code",
   "execution_count": 23,
   "metadata": {},
   "outputs": [],
   "source": [
    "lp_fairness = op(fairness, inequality_fairness)\n",
    "lp_fairness.solve(solver='glpk')"
   ]
  },
  {
   "cell_type": "code",
   "execution_count": 24,
   "metadata": {},
   "outputs": [
    {
     "name": "stdout",
     "output_type": "stream",
     "text": [
      "When optimizing for fairness, fairness: 0.0826446280991736, profit: 2.698775875151419\n",
      "When optimizing for profit, fairness: -0.0, profit: 7.25857723362786\n"
     ]
    }
   ],
   "source": [
    "# Since we multiplied our objective by -1 and then minimized it\n",
    "optimal_profit = -1 * lp_profit.objective.value()[0]\n",
    "optimal_fairness = -1 * lp_fairness.objective.value()[0]\n",
    "print (\"When optimizing for fairness, fairness: {}, profit: {}\".format(optimal_fairness, \n",
    "                                                                      -1 * dot(c, x_fair).value()[0]))\n",
    "print (\"When optimizing for profit, fairness: {}, profit: {}\".format(\n",
    "    -1 * get_fairness_objective(x_f, probability_matrix, requests).value()[0], optimal_profit))"
   ]
  },
  {
   "cell_type": "code",
   "execution_count": 25,
   "metadata": {},
   "outputs": [],
   "source": [
    "lp_solution_sanity_check(x_f, x_fair, probability_matrix, requests)"
   ]
  },
  {
   "cell_type": "code",
   "execution_count": 26,
   "metadata": {},
   "outputs": [
    {
     "name": "stdout",
     "output_type": "stream",
     "text": [
      "0.0 1.8181818181818203\n",
      "[0.12714558 0.15026296 0.1147516  0.15026296 0.12714558 0.12714558\n",
      " 0.15026296 0.12714558 0.12714558 0.12714558 0.10330579 0.12714558\n",
      " 0.12714558 0.10655667 0.10655667 0.15026296 0.13885907 0.15026296\n",
      " 0.10967854 0.15026296 0.1147516  0.10330579 0.10330579 0.12714558]\n"
     ]
    }
   ],
   "source": [
    "print (min(x_fair.value), max(x_fair.value))\n",
    "number_probes = np.zeros(probability_matrix.shape)\n",
    "for i in range(len(x_fair)):\n",
    "    number_probes[index_to_coordinate(i, probability_matrix)] += x_fair.value[i]\n",
    "expected_probes_optimal = np.sum(number_probes, axis=0)\n",
    "for i in range(len(requests)):\n",
    "    expected_probes_optimal[i] /= requests[i].arrival_rate\n",
    "print (expected_probes_optimal)"
   ]
  },
  {
   "cell_type": "markdown",
   "metadata": {},
   "source": [
    "### From this point on x_f is x* and x_fair is y*"
   ]
  },
  {
   "cell_type": "code",
   "execution_count": 27,
   "metadata": {},
   "outputs": [
    {
     "name": "stdout",
     "output_type": "stream",
     "text": [
      "3.539480386711841 7.25857723362786 40 359\n",
      "Competetive Ratio (Profit): 0.48762729565154705, Theoretical lower bound: 0.18393972058572117\n",
      "Competetive Ratio (Fairness): 0.7117647058823525, Theoretical lower bound: 0.18393972058572117\n"
     ]
    }
   ],
   "source": [
    "drivers_copy = [copy.deepcopy(d) for d in drivers] # to avoid overwriting driver values here\n",
    "\n",
    "all_requests = []\n",
    "for r in requests:\n",
    "    all_requests += [r] * int(r.arrival_rate)\n",
    "random.shuffle(all_requests)\n",
    "\n",
    "# This isn't exactly correct since we need to look at \"expected fairness\"\n",
    "exact_profit, exact_count, exact_matches = run_algorithm(all_requests, drivers_copy, probability_matrix, x_f, x_fair)\n",
    "exact_fairness = measure_exact_fairness(all_requests, exact_matches)\n",
    "\n",
    "print (exact_profit, optimal_profit, exact_count, len(all_requests))\n",
    "print (\"Competetive Ratio (Profit): {}, Theoretical lower bound: {}\".format(\n",
    "    exact_profit/optimal_profit, 0.5/np.e))\n",
    "print (\"Competetive Ratio (Fairness): {}, Theoretical lower bound: {}\".format(\n",
    "    exact_fairness/optimal_fairness, 0.5/np.e))"
   ]
  },
  {
   "cell_type": "code",
   "execution_count": 28,
   "metadata": {},
   "outputs": [],
   "source": [
    "alphas_0_1, alphas, betas = np.arange(0, 1.01, 0.1), np.arange(0., 1.01, 0.1), np.arange(0.,1.01,0.1)\n",
    "num_loops = 1000"
   ]
  },
  {
   "cell_type": "markdown",
   "metadata": {},
   "source": [
    "## Over all params"
   ]
  },
  {
   "cell_type": "code",
   "execution_count": null,
   "metadata": {},
   "outputs": [],
   "source": [
    "# matching_results_0_1 = get_matching_results(all_requests, drivers, probability_matrix, \n",
    "#                                             x_f, x_fair, alphas_0_1, num_loops)\n",
    "matching_results = get_matching_results(all_requests, drivers, probability_matrix, \n",
    "                                            x_f, x_fair, alphas, num_loops)"
   ]
  },
  {
   "cell_type": "code",
   "execution_count": null,
   "metadata": {},
   "outputs": [],
   "source": [
    "# edges_count_results_0_1 = get_edges_count_results(all_requests, matching_results_0_1, requests)\n",
    "edges_count_results = get_edges_count_results(all_requests, matching_results, requests)"
   ]
  },
  {
   "cell_type": "code",
   "execution_count": 30,
   "metadata": {},
   "outputs": [
    {
     "data": {
      "text/plain": [
       "(array([0. , 0.1, 0.2, 0.3, 0.4, 0.5, 0.6, 0.7, 0.8, 0.9, 1. ]),\n",
       " array([0. , 0.1, 0.2, 0.3, 0.4, 0.5, 0.6, 0.7, 0.8, 0.9, 1. ]))"
      ]
     },
     "execution_count": 30,
     "metadata": {},
     "output_type": "execute_result"
    }
   ],
   "source": [
    "alphas, alphas_0_1"
   ]
  },
  {
   "cell_type": "code",
   "execution_count": 32,
   "metadata": {},
   "outputs": [
    {
     "ename": "TypeError",
     "evalue": "'numpy.float64' object is not iterable",
     "output_type": "error",
     "traceback": [
      "\u001b[0;31m---------------------------------------------------------------------------\u001b[0m",
      "\u001b[0;31mTypeError\u001b[0m                                 Traceback (most recent call last)",
      "\u001b[0;32m<ipython-input-32-1b97b118e8cd>\u001b[0m in \u001b[0;36m<module>\u001b[0;34m\u001b[0m\n\u001b[1;32m      4\u001b[0m \u001b[0;31m# print ()\u001b[0m\u001b[0;34m\u001b[0m\u001b[0;34m\u001b[0m\u001b[0m\n\u001b[1;32m      5\u001b[0m profit_crs, profit_errors, fairness_crs, fairness_errors = get_profit_fairness_crs(\n\u001b[0;32m----> 6\u001b[0;31m     matching_results, edges_count_results, num_loops, requests, alphas, optimal_profit, optimal_fairness)\n\u001b[0m",
      "\u001b[0;32m<ipython-input-5-3372c98ede49>\u001b[0m in \u001b[0;36mget_profit_fairness_crs\u001b[0;34m(matching_results, edges_count_results, num_loops, requests, alphas, optimal_profit, optimal_fairness)\u001b[0m\n\u001b[1;32m     13\u001b[0m \u001b[0;34m\u001b[0m\u001b[0m\n\u001b[1;32m     14\u001b[0m         fairness_measure, fairness_std_dev = calculate_fairness_from_array(\n\u001b[0;32m---> 15\u001b[0;31m             edges_count_results[j*num_loops:(j+1)*num_loops], num_loops, requests)\n\u001b[0m\u001b[1;32m     16\u001b[0m         \u001b[0mprint\u001b[0m \u001b[0;34m(\u001b[0m\u001b[0mexpected_profit\u001b[0m\u001b[0;34m/\u001b[0m\u001b[0moptimal_profit\u001b[0m\u001b[0;34m,\u001b[0m \u001b[0mfairness_measure\u001b[0m\u001b[0;34m/\u001b[0m\u001b[0moptimal_fairness\u001b[0m\u001b[0;34m)\u001b[0m\u001b[0;34m\u001b[0m\u001b[0m\n\u001b[1;32m     17\u001b[0m         \u001b[0mfairness_crs\u001b[0m\u001b[0;34m.\u001b[0m\u001b[0mappend\u001b[0m\u001b[0;34m(\u001b[0m\u001b[0mfairness_measure\u001b[0m\u001b[0;34m/\u001b[0m\u001b[0moptimal_fairness\u001b[0m\u001b[0;34m)\u001b[0m\u001b[0;34m\u001b[0m\u001b[0m\n",
      "\u001b[0;31mTypeError\u001b[0m: 'numpy.float64' object is not iterable"
     ]
    }
   ],
   "source": [
    "# profit_crs_1, fairness_crs_1 = get_profit_fairness_crs(matching_results_0_1, edges_count_results_0_1, \n",
    "#                                                        num_loops, requests, alphas_0_1, optimal_profit, \n",
    "#                                                        optimal_fairness)\n",
    "# print ()\n",
    "profit_crs, profit_errors, fairness_crs, fairness_errors = get_profit_fairness_crs(\n",
    "    matching_results, edges_count_results, num_loops, requests, alphas, optimal_profit, optimal_fairness)"
   ]
  },
  {
   "cell_type": "code",
   "execution_count": null,
   "metadata": {},
   "outputs": [],
   "source": [
    "print (np.sum(np.array(edges_count_results), axis=0)/num_loops, np.array([r.arrival_rate for r in requests]))\n",
    "expected_fairness_nadap = (np.sum(np.array(edges_count_results), \n",
    "                                  axis=0)/num_loops)/np.array([r.arrival_rate for r in requests])\n",
    "expected_fairness_nadap"
   ]
  },
  {
   "cell_type": "code",
   "execution_count": 35,
   "metadata": {},
   "outputs": [
    {
     "data": {
      "text/plain": [
       "array([0.12714558, 0.15026296, 0.1147516 , 0.15026296, 0.12714558,\n",
       "       0.12714558, 0.15026296, 0.12714558, 0.12714558, 0.12714558,\n",
       "       0.10330579, 0.12714558, 0.12714558, 0.10655667, 0.10655667,\n",
       "       0.15026296, 0.13885907, 0.15026296, 0.10967854, 0.15026296,\n",
       "       0.1147516 , 0.10330579, 0.10330579, 0.12714558])"
      ]
     },
     "execution_count": 35,
     "metadata": {},
     "output_type": "execute_result"
    }
   ],
   "source": [
    "expected_probes_optimal"
   ]
  },
  {
   "cell_type": "code",
   "execution_count": 36,
   "metadata": {},
   "outputs": [],
   "source": [
    "assert np.min(expected_fairness_nadap) * np.e >= optimal_fairness"
   ]
  },
  {
   "cell_type": "code",
   "execution_count": 37,
   "metadata": {},
   "outputs": [
    {
     "data": {
      "image/png": "[encoded data removed]",
      "text/plain": [
       "<Figure size 432x288 with 1 Axes>"
      ]
     },
     "metadata": {
      "needs_background": "light"
     },
     "output_type": "display_data"
    }
   ],
   "source": [
    "plt.plot(alphas, fairness_crs)\n",
    "plt.plot(alphas, [x/np.e for x in 1-alphas], linestyle=':')\n",
    "plt.plot(alphas, profit_crs)\n",
    "plt.plot(alphas, [x/np.e for x in alphas], linestyle=':')\n",
    "\n",
    "plt.show()"
   ]
  },
  {
   "cell_type": "code",
   "execution_count": 71,
   "metadata": {},
   "outputs": [
    {
     "data": {
      "image/png": "[encoded data removed]",
      "text/plain": [
       "<Figure size 432x288 with 1 Axes>"
      ]
     },
     "metadata": {
      "needs_background": "light"
     },
     "output_type": "display_data"
    },
    {
     "data": {
      "text/plain": [
       "<Figure size 216x216 with 0 Axes>"
      ]
     },
     "metadata": {},
     "output_type": "display_data"
    }
   ],
   "source": [
    "plot_lines([fairness_crs, [x/np.e for x in 1-alphas], profit_crs, [x/np.e for x in alphas]], \n",
    "           [fairness_errors, [0 for x in alphas], profit_errors, [0 for x in alphas]],\n",
    "            [\"{:.1f}\".format(x) for x in alphas], alphas, \n",
    "           r'$\\beta = 1 - \\alpha; \\Delta = {}$; Real-world Data'.format(driver_quota), \n",
    "           r'$\\alpha$', 'Competitive Ratios', ['-', '--', '-', '--'], ['red', 'red', 'blue', 'blue'], \n",
    "            ['NAdap (fairness)', 'Lower Bound (fairness)', 'NAdap (profit)', 'Lower Bound (profit)'], \n",
    "            'plots', 'profit_fairness_crs_vs_alpha_{}'.format(filename_append), fmt='png', separate_legend=True)"
   ]
  },
  {
   "cell_type": "markdown",
   "metadata": {},
   "source": [
    "## Uniform and Greedy algorithms"
   ]
  },
  {
   "cell_type": "code",
   "execution_count": null,
   "metadata": {},
   "outputs": [],
   "source": [
    "uniform_params, greedy_params = [], []\n",
    "for i in range(num_loops):\n",
    "    drivers_copy = [copy.deepcopy(d) for d in drivers]\n",
    "    uniform_params.append([all_requests, drivers_copy, probability_matrix])\n",
    "for i in range(num_loops):\n",
    "    drivers_copy = [copy.deepcopy(d) for d in drivers]\n",
    "    greedy_params.append([all_requests, drivers_copy, probability_matrix, profit_matrix])"
   ]
  },
  {
   "cell_type": "code",
   "execution_count": null,
   "metadata": {},
   "outputs": [],
   "source": [
    "with Pool(multiprocessing.cpu_count()) as p:\n",
    "    uniform_results = p.starmap(run_uniform, uniform_params)"
   ]
  },
  {
   "cell_type": "code",
   "execution_count": null,
   "metadata": {},
   "outputs": [],
   "source": [
    "with Pool(multiprocessing.cpu_count()) as p:\n",
    "    greedy_results = p.starmap(run_greedy, greedy_params)"
   ]
  },
  {
   "cell_type": "code",
   "execution_count": 41,
   "metadata": {},
   "outputs": [
    {
     "data": {
      "text/plain": [
       "0.45483351043929526"
      ]
     },
     "execution_count": 41,
     "metadata": {},
     "output_type": "execute_result"
    }
   ],
   "source": [
    "greedy_profit = 0\n",
    "for res in greedy_results:\n",
    "    greedy_profit += res[1]\n",
    "greedy_profit /= num_loops\n",
    "greedy_profit_cr = greedy_profit/optimal_profit\n",
    "greedy_profit_cr"
   ]
  },
  {
   "cell_type": "code",
   "execution_count": 42,
   "metadata": {},
   "outputs": [],
   "source": [
    "greedy_fairness_measure_params = []\n",
    "for i in range(num_loops):\n",
    "    greedy_fairness_measure_params.append([all_requests, greedy_results[i][0], requests])\n",
    "\n",
    "with Pool(multiprocessing.cpu_count()) as p:\n",
    "    greedy_edges_count_results = p.starmap(measure_fairness_edges_count, greedy_fairness_measure_params)"
   ]
  },
  {
   "cell_type": "code",
   "execution_count": 43,
   "metadata": {},
   "outputs": [
    {
     "data": {
      "text/plain": [
       "0.04840000000000005"
      ]
     },
     "execution_count": 43,
     "metadata": {},
     "output_type": "execute_result"
    }
   ],
   "source": [
    "greedy_fairness_cr = calculate_fairness_from_array(greedy_edges_count_results, \n",
    "                                                   num_loops, requests)/optimal_fairness\n",
    "greedy_fairness_cr"
   ]
  },
  {
   "cell_type": "code",
   "execution_count": 44,
   "metadata": {},
   "outputs": [
    {
     "data": {
      "text/plain": [
       "0.48176708938601037"
      ]
     },
     "execution_count": 44,
     "metadata": {},
     "output_type": "execute_result"
    }
   ],
   "source": [
    "uniform_profit = 0\n",
    "for res in uniform_results:\n",
    "    uniform_profit += res[1]\n",
    "uniform_profit /= num_loops\n",
    "uniform_profit_cr = uniform_profit/optimal_profit\n",
    "uniform_profit_cr"
   ]
  },
  {
   "cell_type": "code",
   "execution_count": 45,
   "metadata": {},
   "outputs": [],
   "source": [
    "uniform_fairness_measure_params = []\n",
    "for i in range(num_loops):\n",
    "    uniform_fairness_measure_params.append([all_requests, uniform_results[i][0], requests])\n",
    "\n",
    "with Pool(multiprocessing.cpu_count()) as p:\n",
    "    uniform_edges_count_results = p.starmap(measure_fairness_edges_count, uniform_fairness_measure_params)"
   ]
  },
  {
   "cell_type": "code",
   "execution_count": 46,
   "metadata": {},
   "outputs": [
    {
     "data": {
      "text/plain": [
       "0.4333528571428575"
      ]
     },
     "execution_count": 46,
     "metadata": {},
     "output_type": "execute_result"
    }
   ],
   "source": [
    "uniform_fairness_cr = calculate_fairness_from_array(uniform_edges_count_results, \n",
    "                                                    num_loops, requests)/optimal_fairness\n",
    "uniform_fairness_cr"
   ]
  },
  {
   "cell_type": "code",
   "execution_count": 72,
   "metadata": {},
   "outputs": [
    {
     "data": {
      "image/png": "[encoded data removed]",
      "text/plain": [
       "<Figure size 432x288 with 1 Axes>"
      ]
     },
     "metadata": {
      "needs_background": "light"
     },
     "output_type": "display_data"
    },
    {
     "data": {
      "text/plain": [
       "<Figure size 216x216 with 0 Axes>"
      ]
     },
     "metadata": {},
     "output_type": "display_data"
    }
   ],
   "source": [
    "all_x_vals = [fairness_crs , [uniform_fairness_cr], [greedy_fairness_cr]]\n",
    "all_y_vals = [profit_crs, [uniform_profit_cr], [greedy_profit_cr]]\n",
    "labels = [r'$NAdap (\\alpha, \\beta)$', 'Uniform', 'Greedy']\n",
    "annotations = ['({:.1f}, {:.1f})'.format(alphas[i], 1-alphas[i]) if i == np.argmin(fairness_crs) or \\\n",
    "               i == np.argmax(fairness_crs) or i == np.argmin(profit_crs) or \\\n",
    "               i == np.argmax(profit_crs) else '' for i in range(len(alphas))] + ['', '']\n",
    "annotation_positions = [(fairness_crs[i]/2 - i*np.ptp(fairness_crs)/7 if fairness_crs[i] > np.mean(fairness_crs) else fairness_crs[i]/2 + i*np.ptp(fairness_crs)/5, \n",
    "                         profit_crs[i] + i*np.ptp(profit_crs)/9 if \\\n",
    "                         profit_crs[i] > np.mean(profit_crs) else \\\n",
    "                         profit_crs[i] - i*np.ptp(profit_crs)/5) for i in range(len(alphas))]\n",
    "colors = ['blue', 'orange', 'red']\n",
    "shapes = ['o', 'X', 'D']\n",
    "plot_scatter(all_x_vals, all_y_vals, colors, shapes, annotations, annotation_positions,\n",
    "             r'$\\Delta = {}$; Real-world Data'.format(driver_quota), \n",
    "             'Fairness CR', 'Profit CR', 'plots', 'fairness_vs_profit_cr_scatter_{}'.format(filename_append),\n",
    "            labels=labels, fmt='png', separate_legend=True)"
   ]
  },
  {
   "cell_type": "markdown",
   "metadata": {},
   "source": [
    "### For all other alpha, beta where alpha + beta < 1"
   ]
  },
  {
   "cell_type": "code",
   "execution_count": null,
   "metadata": {},
   "outputs": [],
   "source": [
    "remaining_algorithm_params = []\n",
    "values_to_offset = {}\n",
    "offset = 0\n",
    "for alpha_i in range(len(alphas)):\n",
    "    for beta_j in range(len(betas)):\n",
    "        if alphas[alpha_i] + betas[beta_j] <= 1:\n",
    "            values_to_offset[(alphas[alpha_i], betas[beta_j])] = offset\n",
    "            offset += 1\n",
    "            for i in range(num_loops):\n",
    "                remaining_algorithm_params.append([all_requests, [copy.deepcopy(d) for d in drivers],\n",
    "                                                   probability_matrix, x_f, x_fair, alphas[alpha_i], betas[beta_j]])"
   ]
  },
  {
   "cell_type": "code",
   "execution_count": null,
   "metadata": {},
   "outputs": [],
   "source": [
    "with Pool(multiprocessing.cpu_count()) as p:\n",
    "    remaining_matching_results = p.starmap(run_algorithm, remaining_algorithm_params)"
   ]
  },
  {
   "cell_type": "code",
   "execution_count": null,
   "metadata": {},
   "outputs": [],
   "source": [
    "remaining_fairness_measure_params = []\n",
    "for alpha_i in range(len(alphas)):\n",
    "    for beta_j in range(len(betas)):\n",
    "        if (alphas[alpha_i], betas[beta_j]) in values_to_offset:\n",
    "            for i in range(num_loops):\n",
    "                remaining_fairness_measure_params.append([all_requests, \n",
    "                            remaining_matching_results[values_to_offset[(alphas[alpha_i], betas[beta_j])]][i][2], \n",
    "                            requests])"
   ]
  },
  {
   "cell_type": "code",
   "execution_count": null,
   "metadata": {},
   "outputs": [],
   "source": [
    "with Pool(multiprocessing.cpu_count()) as p:\n",
    "    remaining_edges_count_results = p.starmap(measure_fairness_edges_count, remaining_fairness_measure_params)"
   ]
  },
  {
   "cell_type": "code",
   "execution_count": null,
   "metadata": {},
   "outputs": [],
   "source": [
    "for result in remaining_matching_results:\n",
    "    if result[0] > 0:\n",
    "        print (remaining_matching_resultsults.index(result))\n",
    "        print (np.count_nonzero(result[2] != None))"
   ]
  },
  {
   "cell_type": "code",
   "execution_count": null,
   "metadata": {},
   "outputs": [],
   "source": [
    "expected_fairness_map, expected_profit_map = np.full((len(alphas), len(betas)), np.nan), \\\n",
    "                                                np.full((len(alphas), len(betas)), np.nan)\n",
    "for alpha_i in range(len(alphas)):\n",
    "    for beta_j in range(len(betas)):\n",
    "        if alphas[alpha_i] + betas[beta_j] <= 1:\n",
    "            offset_index = coordinate_to_offset[(alpha_i, beta_j)]\n",
    "            assert offset_index*num_loops <= len(remaining_edges_count_results) - num_loops\n",
    "            \n",
    "            remaining_fairness_counts = remaining_edges_count_results[offset_index * num_loops:(offset_index+1)*num_loops]\n",
    "            print ((np.sum(remaining_fairness_counts, axis=0)/num_loops))\n",
    "            expected_fairness_map[len(alphas) - alpha_i - 1, beta_j] = \\\n",
    "                calculate_fairness_from_array(remaining_fairness_counts, num_loops, requests)/optimal_fairness\n",
    "            expected_profit = 0\n",
    "            for i in range(num_loops):\n",
    "                expected_profit += remaining_matching_results[offset_index + i][0]\n",
    "            expected_profit /= num_loops\n",
    "            expected_profit_map[len(alphas) - alpha_i - 1, beta_j] = expected_profit/optimal_profit\n",
    "#         elif alphas[alpha_i] + betas[beta_j] == 1:\n",
    "#             expected_fairness_map[len(alphas) - alpha_i - 1, beta_j] = fairness_crs[alpha_i]\n",
    "#             expected_profit_map[len(alphas) - alpha_i - 1, beta_j] = profit_crs[alpha_i]"
   ]
  },
  {
   "cell_type": "code",
   "execution_count": null,
   "metadata": {},
   "outputs": [],
   "source": [
    "expected_fairness_map, expected_profit_map"
   ]
  },
  {
   "cell_type": "code",
   "execution_count": null,
   "metadata": {},
   "outputs": [],
   "source": [
    "plot_heatmaps([expected_profit_map], x_labels=[str(\"{:.1f}\".format(x)) for x in betas], \n",
    "              y_labels=[str(\"{:.1f}\".format(x)) for x in alphas[::-1]], x_title='Beta', y_title='Alpha', \n",
    "              subplot_titles=['Expected Profit (Real-world)'], subfolder='plots', \n",
    "              filename='heatmap_expected_profit_{}'.format(filename_append))\n",
    "plot_heatmaps([expected_fairness_map], x_labels=[str(\"{:.1f}\".format(x)) for x in betas], \n",
    "              y_labels=[str(\"{:.1f}\".format(x)) for x in alphas[::-1]], x_title='Beta', y_title='Alpha', \n",
    "              subplot_titles=['Expected Fairness (Real-world)'], subfolder='plots', \n",
    "              filename='heatmap_expected_fairness_{}'.format(filename_append))"
   ]
  },
  {
   "cell_type": "markdown",
   "metadata": {},
   "source": [
    "## Older functions; keeping them here just in case they're needed again"
   ]
  },
  {
   "cell_type": "code",
   "execution_count": null,
   "metadata": {},
   "outputs": [],
   "source": [
    "e_p_1, e_p_2 = 0, 0\n",
    "for result in matching_results_0:\n",
    "    e_p_1 += result[0]\n",
    "e_p_1 /= num_loops\n",
    "e_p_2_s = []\n",
    "for i in range(3):\n",
    "    for result in matching_results_0_1[i*num_loops:(i+1)*num_loops]:\n",
    "        e_p_2 += result[0]\n",
    "    e_p_2 /= num_loops\n",
    "    e_p_2_s.append(e_p_2)\n",
    "e_p_1, e_p_2_s"
   ]
  },
  {
   "cell_type": "code",
   "execution_count": null,
   "metadata": {},
   "outputs": [],
   "source": [
    "for i in range(len(matching_results_0)):\n",
    "    for j in range(len(matching_results_0[i][2])):\n",
    "        d1 = matching_results_0[i][2][j]\n",
    "        d2 = matching_results_0_1[0:num_loops][i][2][j]\n",
    "        assert d1 == d2, \"{}, {}\".format(d1.d_id, d2,d_id)"
   ]
  },
  {
   "cell_type": "code",
   "execution_count": null,
   "metadata": {},
   "outputs": [],
   "source": [
    "print (calculate_fairness_from_array(edges_count_results_0, num_loops, requests))\n",
    "for i in range(3):\n",
    "    print (calculate_fairness_from_array(edges_count_results_0_1[i*num_loops:(i+1)*num_loops], num_loops, requests))"
   ]
  },
  {
   "cell_type": "code",
   "execution_count": null,
   "metadata": {},
   "outputs": [],
   "source": [
    "profit_crs, fairness_crs = [], []\n",
    "for j in range(len(alphas)):\n",
    "    expected_profit = 0\n",
    "    for i in range(num_loops):\n",
    "        expected_profit += matching_results_0[j * num_loops + i][0]\n",
    "        print (j * num_loops + i)\n",
    "    expected_profit /= num_loops\n",
    "    profit_crs.append(expected_profit/optimal_profit)\n",
    "    \n",
    "    print (j*num_loops, (j+1)*num_loops)\n",
    "    fairness_measure = calculate_fairness_from_array(edges_count_results_0[j*num_loops:(j+1)*num_loops], \n",
    "                                                     num_loops, requests)\n",
    "    print (expected_profit/optimal_profit, fairness_measure/optimal_fairness)\n",
    "    fairness_crs.append(fairness_measure/optimal_fairness)"
   ]
  },
  {
   "cell_type": "code",
   "execution_count": null,
   "metadata": {},
   "outputs": [],
   "source": [
    "profit_crs, fairness_crs = [], []\n",
    "for j in range(2):\n",
    "    expected_profit = 0\n",
    "    for i in range(num_loops):\n",
    "        expected_profit += matching_results_0_1[j * num_loops + i][0]\n",
    "        print (j * num_loops + i)\n",
    "    expected_profit /= num_loops\n",
    "    profit_crs.append(expected_profit/optimal_profit)\n",
    "    \n",
    "    print (j*num_loops, (j+1)*num_loops)\n",
    "    fairness_measure = calculate_fairness_from_array(edges_count_results_0_1[j*num_loops:(j+1)*num_loops], \n",
    "                                                     num_loops, requests)\n",
    "    print (expected_profit/optimal_profit, fairness_measure/optimal_fairness)\n",
    "    fairness_crs.append(fairness_measure/optimal_fairness)"
   ]
  },
  {
   "cell_type": "markdown",
   "metadata": {},
   "source": [
    "## Calculates Expectations, not too sure if it's an entirely correct represenatation of NAdap since it isn't taking into account driver availability"
   ]
  },
  {
   "cell_type": "code",
   "execution_count": null,
   "metadata": {},
   "outputs": [],
   "source": [
    "expected_fairness_map_nadap, expected_profit_map_nadap = np.full((len(alphas), len(betas)), np.nan), \\\n",
    "                                                            np.full((len(alphas), len(betas)), np.nan)\n",
    "for alpha_i in range(len(alphas)):\n",
    "    for beta_j in range(len(betas)):\n",
    "        if alphas[alpha_i] + betas[beta_j] <= 1:\n",
    "            parameters_expected_measures = []\n",
    "            for r in requests:\n",
    "                parameters_expected_measures.append([r, x_f, x_fair, alphas[alpha_i], betas[beta_j]])\n",
    "            with Pool(multiprocessing.cpu_count()) as p:\n",
    "                results_fairness = p.starmap(measure_expected_fairness, parameters_expected_measures)\n",
    "            with Pool(multiprocessing.cpu_count()) as p:\n",
    "                results_profit = p.starmap(measure_expected_profit, parameters_expected_measures)\n",
    "            expected_fairness_map_nadap[alpha_i, beta_j] = np.min(results_fairness)\n",
    "            expected_profit_map_nadap[alpha_i, beta_j] = np.sum(results_profit)"
   ]
  },
  {
   "cell_type": "code",
   "execution_count": null,
   "metadata": {},
   "outputs": [],
   "source": [
    "plot_heatmaps([expected_profit_map_nadap], x_labels=[str(\"{:.1f}\".format(x)) for x in betas], \n",
    "              y_labels=[str(\"{:.1f}\".format(x)) for x in alphas], x_title='Beta', y_title='Alpha', \n",
    "              subplot_titles=['Expected Profit'], subfolder='plots', filename='heatmap_expected_profit')\n",
    "plot_heatmaps([expected_fairness_map_nadap], x_labels=[str(\"{:.1f}\".format(x)) for x in betas], \n",
    "              y_labels=[str(\"{:.1f}\".format(x)) for x in alphas], x_title='Beta', y_title='Alpha', \n",
    "              subplot_titles=['Expected Fairness'], subfolder='plots', filename='heatmap_expected_fairness')"
   ]
  },
  {
   "cell_type": "code",
   "execution_count": null,
   "metadata": {},
   "outputs": [],
   "source": [
    "for alpha_i in range(len(alphas)):\n",
    "    x_vals, profit_vals_nadap, fairness_vals_nadap = [], [], []\n",
    "    profit_vals_theory, fairness_vals_theory = [], []\n",
    "    for beta_j in range(len(betas)):\n",
    "        if alphas[alpha_i] + betas[beta_j] <= 1:\n",
    "            profit_vals_nadap.append(expected_profit_map_nadap[alpha_i, beta_j]/optimal_profit)\n",
    "            fairness_vals_nadap.append(expected_fairness_map_nadap[alpha_i, beta_j]/optimal_fairness)\n",
    "            x_vals.append(betas[beta_j])\n",
    "            profit_vals_theory.append(alphas[alpha_i]/np.e)\n",
    "            fairness_vals_theory.append(betas[beta_j]/np.e)\n",
    "    profit_vals_optimal = [1] * len(x_vals)\n",
    "    fairness_vals_optimal = [1] * len(x_vals)\n",
    "    plot_lines([profit_vals_theory, profit_vals_nadap, profit_vals_optimal], [\"{:.1f}\".format(x) for x in x_vals], \n",
    "               x_vals, 'Alpha = {}'.format(alphas[alpha_i]), 'Beta', 'Comp. Ratio (Profit)', ['--', '-', '--'], \n",
    "               ['grey', 'red', 'black'], ['Theoretical Bound', 'NAdap', 'Optimal'], 'plots', \n",
    "               'expected_profit_beta_line_plot_{:.1f}'.format(alphas[alpha_i]))\n",
    "    plot_lines([fairness_vals_theory, fairness_vals_nadap, fairness_vals_optimal], \n",
    "               [\"{:.1f}\".format(x) for x in x_vals], x_vals, 'Alpha = {}'.format(alphas[alpha_i]), \n",
    "               'Beta', 'Comp. Ratio (Fairness)', ['--', '-', '--'], ['grey', 'red', 'black'], \n",
    "               ['Theoretical Bound', 'NAdap', 'Optimal'], 'plots', \n",
    "               'expected_fairness_beta_line_plot_{:.1f}'.format(alphas[alpha_i]))"
   ]
  },
  {
   "cell_type": "code",
   "execution_count": null,
   "metadata": {},
   "outputs": [],
   "source": [
    "for beta_j in range(len(betas)):\n",
    "    x_vals, profit_vals_nadap, fairness_vals_nadap = [], [], []\n",
    "    profit_vals_theory, fairness_vals_theory = [], []\n",
    "    for alpha_i in range(len(alphas)):\n",
    "        if alphas[alpha_i] + betas[beta_j] <= 1:\n",
    "            profit_vals_nadap.append(expected_profit_map_nadap[alpha_i, beta_j]/optimal_profit)\n",
    "            fairness_vals_nadap.append(expected_fairness_map_nadap[alpha_i, beta_j]/optimal_fairness)\n",
    "            x_vals.append(alphas[alpha_i])\n",
    "            profit_vals_theory.append(alphas[alpha_i]/np.e)\n",
    "            fairness_vals_theory.append(betas[beta_j]/np.e)\n",
    "    profit_vals_optimal = [1] * len(x_vals)\n",
    "    fairness_vals_optimal = [1] * len(x_vals)\n",
    "    plot_lines([profit_vals_theory, profit_vals_nadap, profit_vals_optimal], [\"{:.1f}\".format(x) for x in x_vals], \n",
    "               x_vals, 'Beta = {}'.format(betas[beta_j]), 'Alpha', 'Comp. Ratio (Profit)', ['--', '-', '--'], \n",
    "               ['grey', 'red', 'black'], ['Theoretical Bound', 'NAdap', 'Optimal'], 'plots', \n",
    "               'expected_profit_alpha_line_plot_{:.1f}'.format(betas[beta_j]))\n",
    "    plot_lines([fairness_vals_theory, fairness_vals_nadap, fairness_vals_optimal], \n",
    "               [\"{:.1f}\".format(x) for x in x_vals], x_vals, 'Beta = {}'.format(betas[beta_j]), \n",
    "               'Alpha', 'Comp. Ratio (Fairness)', ['--', '-', '--'], ['grey', 'red', 'black'], \n",
    "               ['Theoretical Bound', 'NAdap', 'Optimal'], 'plots', \n",
    "               'expected_fairness_alpha_line_plot_{:.1f}'.format(betas[beta_j]))"
   ]
  },
  {
   "cell_type": "code",
   "execution_count": null,
   "metadata": {
    "scrolled": true
   },
   "outputs": [],
   "source": [
    "fairness_map, profit_map = np.full((len(alphas), len(betas)), np.nan), np.full((len(alphas), len(betas)), np.nan)\n",
    "parameters = []\n",
    "for alpha_i in range(len(alphas)):\n",
    "    for beta_j in range(len(betas)):\n",
    "        if alphas[alpha_i] + betas[beta_j] <= 1:\n",
    "            drivers_copy = [copy.deepcopy(d) for d in drivers] # to avoid overwriting driver values here\n",
    "            parameters.append([all_requests, drivers_copy, alphas[alpha_i], betas[beta_j]])\n",
    "print (parameters)"
   ]
  },
  {
   "cell_type": "code",
   "execution_count": null,
   "metadata": {},
   "outputs": [],
   "source": [
    "with Pool(multiprocessing.cpu_count()) as p:\n",
    "    results = p.starmap(run_algorithm, parameters)"
   ]
  },
  {
   "cell_type": "code",
   "execution_count": null,
   "metadata": {},
   "outputs": [],
   "source": [
    "for i in range(len(results)):\n",
    "    exact_profit, count, matches = results[i]\n",
    "    exact_fairness = measure_exact_fairness(all_requests, matches)\n",
    "    fairness_map[list(alphas).index(parameters[i][2])][list(betas).index(parameters[i][3])] = exact_fairness\n",
    "    profit_map[list(alphas).index(parameters[i][2])][list(betas).index(parameters[i][3])] = exact_profit"
   ]
  },
  {
   "cell_type": "code",
   "execution_count": null,
   "metadata": {},
   "outputs": [],
   "source": [
    "plot_heatmaps([profit_map], x_labels=[str(\"{:.1f}\".format(x)) for x in betas], \n",
    "              y_labels=[str(\"{:.1f}\".format(x)) for x in alphas], x_title='Beta', y_title='Alpha', \n",
    "              subplot_titles=['Profit'], subfolder='plots', filename='heatmap_profit')\n",
    "plot_heatmaps([fairness_map], x_labels=[str(\"{:.1f}\".format(x)) for x in betas], \n",
    "              y_labels=[str(\"{:.1f}\".format(x)) for x in alphas], x_title='Beta', y_title='Alpha', \n",
    "              subplot_titles=['Fairness'], subfolder='plots', filename='heatmap_fairness')"
   ]
  },
  {
   "cell_type": "code",
   "execution_count": null,
   "metadata": {},
   "outputs": [],
   "source": [
    "index = 0\n",
    "for alpha_i in range(len(alphas)):\n",
    "    x_vals, profit_vals_nadap, fairness_vals_nadap = [], [], []\n",
    "    profit_vals_theory, fairness_vals_theory = [], []\n",
    "    for beta_j in range(len(betas)):\n",
    "        if alphas[alpha_i] + betas[beta_j] <= 1:\n",
    "            print (alphas[alpha_i], betas[beta_j], index)\n",
    "            exact_profit, _, matches = results[index]\n",
    "            exact_fairness = measure_exact_fairness(all_requests, matches)\n",
    "            profit_vals_nadap.append(exact_profit/optimal_profit)\n",
    "            fairness_vals_nadap.append(exact_fairness/optimal_fairness)\n",
    "            x_vals.append(betas[beta_j])\n",
    "            profit_vals_theory.append(alphas[alpha_i]/np.e)\n",
    "            fairness_vals_theory.append(betas[beta_j]/np.e)\n",
    "            index += 1\n",
    "    profit_vals_optimal = [1] * len(x_vals)\n",
    "    fairness_vals_optimal = [1] * len(x_vals)\n",
    "    plot_lines([profit_vals_theory, profit_vals_nadap, profit_vals_optimal], [\"{:.1f}\".format(x) for x in x_vals], \n",
    "               x_vals, 'Alpha = {}'.format(alphas[alpha_i]), 'Beta', 'Comp. Ratio (Profit)', ['--', '-', '--'], \n",
    "               ['grey', 'red', 'black'], ['Theoretical Bound', 'NAdap', 'Optimal'], 'plots', \n",
    "               'profit_beta_line_plot_{:.1f}'.format(alphas[alpha_i]))\n",
    "    plot_lines([fairness_vals_theory, fairness_vals_nadap, fairness_vals_optimal], \n",
    "               [\"{:.1f}\".format(x) for x in x_vals], x_vals, 'Alpha = {}'.format(alphas[alpha_i]), \n",
    "               'Beta', 'Comp. Ratio (Fairness)', ['--', '-', '--'], ['grey', 'red', 'black'], \n",
    "               ['Theoretical Bound', 'NAdap', 'Optimal'], 'plots', \n",
    "               'fairness_beta_line_plot_{:.1f}'.format(alphas[alpha_i]))\n",
    "\n",
    "index = 0\n",
    "for beta_j in range(len(betas)):\n",
    "    x_vals, profit_vals_nadap, fairness_vals_nadap = [], [], []\n",
    "    profit_vals_theory, fairness_vals_theory = [], []\n",
    "    for alpha_i in range(len(alphas)):\n",
    "        if alphas[alpha_i] + betas[beta_j] <= 1:\n",
    "            print (alphas[alpha_i], betas[beta_j], index)\n",
    "            exact_profit, _, matches = results[index]\n",
    "            exact_fairness = measure_exact_fairness(all_requests, matches)\n",
    "            profit_vals_nadap.append(exact_profit/optimal_profit)\n",
    "            fairness_vals_nadap.append(exact_fairness/optimal_fairness)\n",
    "            x_vals.append(alphas[alpha_i])\n",
    "            profit_vals_theory.append(alphas[alpha_i]/np.e)\n",
    "            fairness_vals_theory.append(betas[beta_j]/np.e)\n",
    "            index += 1\n",
    "    print (profit_vals_theory)\n",
    "    profit_vals_optimal = [1] * len(x_vals)\n",
    "    fairness_vals_optimal = [1] * len(x_vals)\n",
    "    plot_lines([profit_vals_theory, profit_vals_nadap, profit_vals_optimal], [\"{:.1f}\".format(x) for x in x_vals], \n",
    "               x_vals, 'Beta = {}'.format(betas[beta_j]), 'Alpha', 'Comp. Ratio (Profit)', ['--', '-', '--'], \n",
    "               ['grey', 'red', 'black'], ['Theoretical Bound', 'NAdap', 'Optimal'], 'plots', \n",
    "               'profit_alpha_line_plot_{:.1f}'.format(betas[beta_j]))\n",
    "    plot_lines([fairness_vals_theory, fairness_vals_nadap, fairness_vals_optimal], \n",
    "               [\"{:.1f}\".format(x) for x in x_vals], x_vals, 'Beta = {}'.format(betas[beta_j]), \n",
    "               'Alpha', 'Comp. Ratio (Fairness)', ['--', '-', '--'], ['grey', 'red', 'black'], \n",
    "               ['Theoretical Bound', 'NAdap', 'Optimal'], 'plots', \n",
    "               'fairness_alpha_line_plot_{:.1f}'.format(betas[beta_j]))"
   ]
  },
  {
   "cell_type": "code",
   "execution_count": null,
   "metadata": {},
   "outputs": [],
   "source": []
  }
 ],
 "metadata": {
  "kernelspec": {
   "display_name": "Python 3",
   "language": "python",
   "name": "python3"
  },
  "language_info": {
   "codemirror_mode": {
    "name": "ipython",
    "version": 3
   },
   "file_extension": ".py",
   "mimetype": "text/x-python",
   "name": "python",
   "nbconvert_exporter": "python",
   "pygments_lexer": "ipython3",
   "version": "3.6.2"
  }
 },
 "nbformat": 4,
 "nbformat_minor": 2
}
